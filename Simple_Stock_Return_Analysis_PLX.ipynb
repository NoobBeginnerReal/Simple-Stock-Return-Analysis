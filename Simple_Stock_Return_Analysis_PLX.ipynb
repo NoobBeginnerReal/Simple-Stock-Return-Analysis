{
  "nbformat": 4,
  "nbformat_minor": 0,
  "metadata": {
    "colab": {
      "provenance": [],
      "authorship_tag": "ABX9TyPbd2DK/OPXY75G0xgoqaF2",
      "include_colab_link": true
    },
    "kernelspec": {
      "name": "python3",
      "display_name": "Python 3"
    },
    "language_info": {
      "name": "python"
    }
  },
  "cells": [
    {
      "cell_type": "markdown",
      "metadata": {
        "id": "view-in-github",
        "colab_type": "text"
      },
      "source": [
        "<a href=\"https://colab.research.google.com/github/NoobBeginnerReal/Simple-Stock-Return-Analysis/blob/main/Simple_Stock_Return_Analysis_PLX.ipynb\" target=\"_parent\"><img src=\"https://colab.research.google.com/assets/colab-badge.svg\" alt=\"Open In Colab\"/></a>"
      ]
    },
    {
      "cell_type": "markdown",
      "source": [
        "# STEP 1. SETTING UP"
      ],
      "metadata": {
        "id": "3bgcOZCWp3vB"
      }
    },
    {
      "cell_type": "code",
      "execution_count": 1,
      "metadata": {
        "colab": {
          "base_uri": "https://localhost:8080/"
        },
        "id": "PfbaZlXcpMvL",
        "outputId": "1c779cc9-fae4-4bb1-cbd1-6ac0f674661a"
      },
      "outputs": [
        {
          "output_type": "stream",
          "name": "stdout",
          "text": [
            "Collecting vnstock\n",
            "  Downloading vnstock-3.1.0.2-py3-none-any.whl.metadata (17 kB)\n",
            "Requirement already satisfied: requests in /usr/local/lib/python3.11/dist-packages (from vnstock) (2.32.3)\n",
            "Requirement already satisfied: beautifulsoup4 in /usr/local/lib/python3.11/dist-packages (from vnstock) (4.13.3)\n",
            "Requirement already satisfied: pandas in /usr/local/lib/python3.11/dist-packages (from vnstock) (2.2.2)\n",
            "Collecting vnai>=0.1.3 (from vnstock)\n",
            "  Downloading vnai-2.0-py3-none-any.whl.metadata (947 bytes)\n",
            "Requirement already satisfied: openpyxl in /usr/local/lib/python3.11/dist-packages (from vnstock) (3.1.5)\n",
            "Requirement already satisfied: pydantic in /usr/local/lib/python3.11/dist-packages (from vnstock) (2.10.6)\n",
            "Requirement already satisfied: psutil in /usr/local/lib/python3.11/dist-packages (from vnstock) (5.9.5)\n",
            "Collecting fake_useragent (from vnstock)\n",
            "  Downloading fake_useragent-2.1.0-py3-none-any.whl.metadata (17 kB)\n",
            "Collecting vnstock_ezchart (from vnstock)\n",
            "  Downloading vnstock_ezchart-0.0.2-py3-none-any.whl.metadata (6.6 kB)\n",
            "Requirement already satisfied: click in /usr/local/lib/python3.11/dist-packages (from vnstock) (8.1.8)\n",
            "Requirement already satisfied: seaborn in /usr/local/lib/python3.11/dist-packages (from vnstock) (0.13.2)\n",
            "Requirement already satisfied: cryptography>=3.4.0 in /usr/local/lib/python3.11/dist-packages (from vnai>=0.1.3->vnstock) (43.0.3)\n",
            "Requirement already satisfied: charset-normalizer<4,>=2 in /usr/local/lib/python3.11/dist-packages (from requests->vnstock) (3.4.1)\n",
            "Requirement already satisfied: idna<4,>=2.5 in /usr/local/lib/python3.11/dist-packages (from requests->vnstock) (3.10)\n",
            "Requirement already satisfied: urllib3<3,>=1.21.1 in /usr/local/lib/python3.11/dist-packages (from requests->vnstock) (2.3.0)\n",
            "Requirement already satisfied: certifi>=2017.4.17 in /usr/local/lib/python3.11/dist-packages (from requests->vnstock) (2025.1.31)\n",
            "Requirement already satisfied: soupsieve>1.2 in /usr/local/lib/python3.11/dist-packages (from beautifulsoup4->vnstock) (2.6)\n",
            "Requirement already satisfied: typing-extensions>=4.0.0 in /usr/local/lib/python3.11/dist-packages (from beautifulsoup4->vnstock) (4.12.2)\n",
            "Requirement already satisfied: et-xmlfile in /usr/local/lib/python3.11/dist-packages (from openpyxl->vnstock) (2.0.0)\n",
            "Requirement already satisfied: numpy>=1.23.2 in /usr/local/lib/python3.11/dist-packages (from pandas->vnstock) (2.0.2)\n",
            "Requirement already satisfied: python-dateutil>=2.8.2 in /usr/local/lib/python3.11/dist-packages (from pandas->vnstock) (2.8.2)\n",
            "Requirement already satisfied: pytz>=2020.1 in /usr/local/lib/python3.11/dist-packages (from pandas->vnstock) (2025.1)\n",
            "Requirement already satisfied: tzdata>=2022.7 in /usr/local/lib/python3.11/dist-packages (from pandas->vnstock) (2025.1)\n",
            "Requirement already satisfied: annotated-types>=0.6.0 in /usr/local/lib/python3.11/dist-packages (from pydantic->vnstock) (0.7.0)\n",
            "Requirement already satisfied: pydantic-core==2.27.2 in /usr/local/lib/python3.11/dist-packages (from pydantic->vnstock) (2.27.2)\n",
            "Requirement already satisfied: matplotlib!=3.6.1,>=3.4 in /usr/local/lib/python3.11/dist-packages (from seaborn->vnstock) (3.10.0)\n",
            "Collecting squarify (from vnstock_ezchart->vnstock)\n",
            "  Downloading squarify-0.4.4-py3-none-any.whl.metadata (600 bytes)\n",
            "Requirement already satisfied: wordcloud in /usr/local/lib/python3.11/dist-packages (from vnstock_ezchart->vnstock) (1.9.4)\n",
            "Requirement already satisfied: cffi>=1.12 in /usr/local/lib/python3.11/dist-packages (from cryptography>=3.4.0->vnai>=0.1.3->vnstock) (1.17.1)\n",
            "Requirement already satisfied: contourpy>=1.0.1 in /usr/local/lib/python3.11/dist-packages (from matplotlib!=3.6.1,>=3.4->seaborn->vnstock) (1.3.1)\n",
            "Requirement already satisfied: cycler>=0.10 in /usr/local/lib/python3.11/dist-packages (from matplotlib!=3.6.1,>=3.4->seaborn->vnstock) (0.12.1)\n",
            "Requirement already satisfied: fonttools>=4.22.0 in /usr/local/lib/python3.11/dist-packages (from matplotlib!=3.6.1,>=3.4->seaborn->vnstock) (4.56.0)\n",
            "Requirement already satisfied: kiwisolver>=1.3.1 in /usr/local/lib/python3.11/dist-packages (from matplotlib!=3.6.1,>=3.4->seaborn->vnstock) (1.4.8)\n",
            "Requirement already satisfied: packaging>=20.0 in /usr/local/lib/python3.11/dist-packages (from matplotlib!=3.6.1,>=3.4->seaborn->vnstock) (24.2)\n",
            "Requirement already satisfied: pillow>=8 in /usr/local/lib/python3.11/dist-packages (from matplotlib!=3.6.1,>=3.4->seaborn->vnstock) (11.1.0)\n",
            "Requirement already satisfied: pyparsing>=2.3.1 in /usr/local/lib/python3.11/dist-packages (from matplotlib!=3.6.1,>=3.4->seaborn->vnstock) (3.2.1)\n",
            "Requirement already satisfied: six>=1.5 in /usr/local/lib/python3.11/dist-packages (from python-dateutil>=2.8.2->pandas->vnstock) (1.17.0)\n",
            "Requirement already satisfied: pycparser in /usr/local/lib/python3.11/dist-packages (from cffi>=1.12->cryptography>=3.4.0->vnai>=0.1.3->vnstock) (2.22)\n",
            "Downloading vnstock-3.1.0.2-py3-none-any.whl (90 kB)\n",
            "\u001b[2K   \u001b[90m━━━━━━━━━━━━━━━━━━━━━━━━━━━━━━━━━━━━━━━━\u001b[0m \u001b[32m90.6/90.6 kB\u001b[0m \u001b[31m2.0 MB/s\u001b[0m eta \u001b[36m0:00:00\u001b[0m\n",
            "\u001b[?25hDownloading vnai-2.0-py3-none-any.whl (19 kB)\n",
            "Downloading fake_useragent-2.1.0-py3-none-any.whl (125 kB)\n",
            "\u001b[2K   \u001b[90m━━━━━━━━━━━━━━━━━━━━━━━━━━━━━━━━━━━━━━━━\u001b[0m \u001b[32m125.8/125.8 kB\u001b[0m \u001b[31m7.8 MB/s\u001b[0m eta \u001b[36m0:00:00\u001b[0m\n",
            "\u001b[?25hDownloading vnstock_ezchart-0.0.2-py3-none-any.whl (14 kB)\n",
            "Downloading squarify-0.4.4-py3-none-any.whl (4.1 kB)\n",
            "Installing collected packages: squarify, fake_useragent, vnai, vnstock_ezchart, vnstock\n",
            "Successfully installed fake_useragent-2.1.0 squarify-0.4.4 vnai-2.0 vnstock-3.1.0.2 vnstock_ezchart-0.0.2\n"
          ]
        }
      ],
      "source": [
        "!pip install -U vnstock"
      ]
    },
    {
      "cell_type": "markdown",
      "source": [
        "# STEP 2 GETTING THE DATA"
      ],
      "metadata": {
        "id": "6qEDyG4XqBRG"
      }
    },
    {
      "cell_type": "code",
      "source": [
        "from vnstock import *\n",
        "import pandas as pd\n",
        "\n",
        "# Get VCB historical stock prices (default = daily)\n",
        "stock = Vnstock().stock(symbol='PLX', source='VCI')\n",
        "plx_data = stock.quote.history(start='2014-01-01', end='2024-12-31')\n",
        "\n",
        "#Save to a dataframe\n",
        "df = pd.DataFrame(plx_data)\n",
        "df.to_csv(\"PLX_stock_data.csv\", index=False, encoding='utf-8')\n",
        "\n",
        "print(\"PLX stock data saved\")"
      ],
      "metadata": {
        "colab": {
          "base_uri": "https://localhost:8080/",
          "height": 529
        },
        "id": "VxfsFPdQqE5x",
        "outputId": "1f6675ac-46d0-4564-85ba-0f9678d45790"
      },
      "execution_count": 2,
      "outputs": [
        {
          "output_type": "display_data",
          "data": {
            "text/plain": [
              "<IPython.core.display.HTML object>"
            ],
            "text/html": [
              "<!DOCTYPE html>\n",
              "<html>\n",
              "<head>\n",
              "    <meta charset=\"UTF-8\">\n",
              "    <meta name=\"viewport\" content=\"width=device-width, initial-scale=1.0\">\n",
              "    <link href=\"https://fonts.googleapis.com/css2?family=Lexend:wght@400;500;600;700&display=swap\" rel=\"stylesheet\">\n",
              "    <!-- Include FontAwesome -->\n",
              "    <link rel=\"stylesheet\" href=\"https://cdnjs.cloudflare.com/ajax/libs/font-awesome/6.0.0/css/all.min.css\">\n",
              "    <style>\n",
              "        .vnstock-ad-container {\n",
              "            font-family: 'Lexend', sans-serif;\n",
              "            display: flex;\n",
              "            max-width: 100%;\n",
              "            margin: 20px 0;\n",
              "            border-radius: 12px;\n",
              "            overflow: hidden;\n",
              "            box-shadow: 0 8px 20px rgba(0, 0, 0, 0.08);\n",
              "            background: #ffffff;\n",
              "        }\n",
              "        \n",
              "        .vnstock-ad-content {\n",
              "            flex: 1;\n",
              "            padding: 25px;\n",
              "            display: flex;\n",
              "            flex-direction: column;\n",
              "            justify-content: center;\n",
              "        }\n",
              "        \n",
              "        .vnstock-ad-image {\n",
              "            flex: 1;\n",
              "            min-width: 0;\n",
              "        }\n",
              "        \n",
              "        .vnstock-ad-image img {\n",
              "            width: 100%;\n",
              "            height: 100%;\n",
              "            object-fit: cover;\n",
              "            display: block;\n",
              "        }\n",
              "        \n",
              "        .vnstock-ad-title {\n",
              "            margin: 0 0 15px 0;\n",
              "            line-height: 1.3;\n",
              "        }\n",
              "        \n",
              "        .vnstock-ad-title-green {\n",
              "            color: #4CAF50;\n",
              "            font-size: 24px;\n",
              "            font-weight: 700;\n",
              "        }\n",
              "        \n",
              "        .vnstock-ad-title-purple {\n",
              "            color: #8C52FF;\n",
              "            font-size: 24px;\n",
              "            font-weight: 700;\n",
              "        }\n",
              "        \n",
              "        .vnstock-ad-features {\n",
              "            list-style-type: none;\n",
              "            padding-left: 0;\n",
              "            margin: 0 0 20px 0;\n",
              "        }\n",
              "        \n",
              "        .vnstock-ad-features li {\n",
              "            color: #333333;\n",
              "            margin-bottom: 8px;\n",
              "            padding-left: 22px;\n",
              "            position: relative;\n",
              "            font-size: 14px;\n",
              "            line-height: 1.5;\n",
              "        }\n",
              "        \n",
              "        .vnstock-ad-features li:before {\n",
              "            content: \"•\";\n",
              "            position: absolute;\n",
              "            left: 0;\n",
              "            color: #007BFF;\n",
              "            font-weight: bold;\n",
              "            font-size: 18px;\n",
              "        }\n",
              "        \n",
              "        .button-container {\n",
              "            text-align: center; /* Center the button */\n",
              "        }\n",
              "        \n",
              "        .vnstock-ad-button {\n",
              "            display: inline-block;\n",
              "            background-color: #4CAF50;\n",
              "            color: white;\n",
              "            border: none;\n",
              "            padding: 10px 24px;\n",
              "            text-align: center;\n",
              "            text-decoration: none;\n",
              "            font-size: 15px;\n",
              "            border-radius: 30px;\n",
              "            font-weight: 600;\n",
              "            transition: all 0.2s;\n",
              "            box-shadow: 0 4px 10px rgba(76, 175, 80, 0.2);\n",
              "            width: auto;\n",
              "            min-width: 120px;\n",
              "            max-width: 160px;\n",
              "        }\n",
              "        \n",
              "        .vnstock-ad-button:hover {\n",
              "            background-color: #8C52FF; /* Change to purple on hover */\n",
              "            color: white;\n",
              "            transform: translateY(-2px);\n",
              "            box-shadow: 0 6px 12px rgba(140, 82, 255, 0.3);\n",
              "        }\n",
              "\n",
              "        .vnstock-ad-features li {\n",
              "            color: #333333;\n",
              "            margin-bottom: 12px;\n",
              "            padding-left: 25px;\n",
              "            position: relative;\n",
              "            font-size: 15px;\n",
              "            line-height: 1.6;\n",
              "        }\n",
              "\n",
              "        .highlight {\n",
              "            color: #8C52FF;\n",
              "            font-weight: 600;\n",
              "        }\n",
              "\n",
              "        \n",
              "        @media (max-width: 768px) {\n",
              "            .vnstock-ad-container {\n",
              "                flex-direction: column;\n",
              "            }\n",
              "            \n",
              "            .vnstock-ad-content, .vnstock-ad-image {\n",
              "                flex: none;\n",
              "            }\n",
              "            \n",
              "            .vnstock-ad-image img {\n",
              "                height: 200px;\n",
              "            }\n",
              "        }\n",
              "    </style>\n",
              "</head>\n",
              "<body>\n",
              "    <div class=\"vnstock-ad-container\">\n",
              "        <!-- <div class=\"vnstock-ad-content\">\n",
              "            <h2 class=\"vnstock-ad-title\">\n",
              "                <span class=\"vnstock-ad-title-green\">Phân tích dữ liệu & tạo bot chứng khoán </span>\n",
              "                <span class=\"vnstock-ad-title-purple\">K10</span>\n",
              "            </h2>\n",
              "            <ul class=\"vnstock-ad-features\">\n",
              "                <li><span class=\"highlight\">🗓️ Khai giảng K10:</span> 23/3/2025 • 10 buổi học mỗi chiều Chủ Nhật</li>\n",
              "                <li><span class=\"highlight\">🚀 Kỹ năng thực chiến:</span> Làm chủ tự động hóa phân tích & giao dịch từ số 0</li>\n",
              "                <li><span class=\"highlight\">💯 Cộng đồng thành công:</span> Kết nối 100+ nhà đầu tư & chuyên gia tại Vnstock</li>                \n",
              "            </ul>\n",
              "            <div class=\"button-container\">\n",
              "                <a href=\"https://vnstocks.com/lp-khoa-hoc-python-chung-khoan\" class=\"vnstock-ad-button\">Đăng ký <i class=\"fas fa-chevron-right\"></i></a>\n",
              "            </div>\n",
              "        </div> -->\n",
              "        <div class=\"vnstock-ad-content\">\n",
              "            <h2 class=\"vnstock-ad-title\">\n",
              "                <span class=\"vnstock-ad-title-green\"><span class=\"highlight\">Biến Dữ Liệu Thành Lợi Nhuận -</span> Khai giảng Python Chứng Khoán K10</span>\n",
              "            </h2>\n",
              "            <ul class=\"vnstock-ad-features\">\n",
              "                <li><span class=\"highlight\">🗓️ Khai giảng 23/3/2025:</span> Học 10 buổi chiều Chủ Nhật</li>\n",
              "                <li><span class=\"highlight\">🚀 Kỹ năng thực chiến:</span> Phân tích chuyên sâu & tạo bot chứng khoán từ con số 0</li>\n",
              "                <li><span class=\"highlight\">💯 Cộng đồng thành công:</span> Đồng hành cùng 100+ học viên là nhà đầu tư & chuyên gia chứng khoán</li>                \n",
              "            </ul>\n",
              "            <div class=\"button-container\">\n",
              "                <a href=\"https://vnstocks.com/lp-khoa-hoc-python-chung-khoan\" class=\"vnstock-ad-button\">Đăng ký <i class=\"fas fa-chevron-right\"></i></a>\n",
              "            </div>\n",
              "        </div>\n",
              "        <a href=\"https://vnstocks.com/lp-khoa-hoc-python-chung-khoan\" class=\"vnstock-ad-image\">\n",
              "            <img src=\"https://vnstocks.com/img/cta-python-chung-khoan-k10-no-cta.jpg\" alt=\"Khóa học Python Chứng khoán\">\n",
              "        </a>\n",
              "    </div>\n",
              "</body>\n",
              "</html>\n"
            ]
          },
          "metadata": {}
        },
        {
          "output_type": "stream",
          "name": "stderr",
          "text": [
            "2025-03-19 06:50:55 - vnstock.common.data.data_explorer - WARNING - Thông tin niêm yết & giao dịch sẽ được truy xuất từ TCBS\n",
            "WARNING:vnstock.common.data.data_explorer:Thông tin niêm yết & giao dịch sẽ được truy xuất từ TCBS\n"
          ]
        },
        {
          "output_type": "stream",
          "name": "stdout",
          "text": [
            "PLX stock data saved\n"
          ]
        }
      ]
    },
    {
      "cell_type": "markdown",
      "source": [
        "# STEP 3 ANALYZE"
      ],
      "metadata": {
        "id": "wUj7-qFNwYYy"
      }
    },
    {
      "cell_type": "code",
      "source": [
        "print(df.head())\n",
        "print(df.info())\n",
        "print(df.shape)\n",
        "print(df.describe())"
      ],
      "metadata": {
        "colab": {
          "base_uri": "https://localhost:8080/"
        },
        "id": "WlyGQCDCqRpn",
        "outputId": "dc7facc0-cd96-495c-a7e0-95b44e73e757"
      },
      "execution_count": 3,
      "outputs": [
        {
          "output_type": "stream",
          "name": "stdout",
          "text": [
            "        time   open   high    low  close   volume\n",
            "0 2017-04-21  37.43  37.43  33.24  35.34  4820970\n",
            "1 2017-04-24  35.34  35.77  34.69  34.98  1757390\n",
            "2 2017-04-25  34.76  34.98  32.56  32.63  2533550\n",
            "3 2017-04-26  31.15  32.16  31.15  31.87  1743790\n",
            "4 2017-04-27  31.87  33.17  31.87  33.17   825430\n",
            "<class 'pandas.core.frame.DataFrame'>\n",
            "RangeIndex: 1928 entries, 0 to 1927\n",
            "Data columns (total 6 columns):\n",
            " #   Column  Non-Null Count  Dtype         \n",
            "---  ------  --------------  -----         \n",
            " 0   time    1928 non-null   datetime64[ns]\n",
            " 1   open    1928 non-null   float64       \n",
            " 2   high    1928 non-null   float64       \n",
            " 3   low     1928 non-null   float64       \n",
            " 4   close   1928 non-null   float64       \n",
            " 5   volume  1928 non-null   int64         \n",
            "dtypes: datetime64[ns](1), float64(4), int64(1)\n",
            "memory usage: 90.5 KB\n",
            "None\n",
            "(1928, 6)\n",
            "                                time         open         high          low  \\\n",
            "count                           1928  1928.000000  1928.000000  1928.000000   \n",
            "mean   2021-02-24 15:20:09.958506240    44.163434    44.728797    43.590130   \n",
            "min              2017-04-21 00:00:00    21.700000    24.350000    21.700000   \n",
            "25%              2019-03-25 18:00:00    37.730000    38.380000    37.297500   \n",
            "50%              2021-02-25 12:00:00    45.320000    45.905000    44.790000   \n",
            "75%              2023-02-01 06:00:00    49.352500    49.990000    48.880000   \n",
            "max              2024-12-31 00:00:00    71.400000    72.380000    70.560000   \n",
            "std                              NaN     7.846202     7.955429     7.724233   \n",
            "\n",
            "             close        volume  \n",
            "count  1928.000000  1.928000e+03  \n",
            "mean     44.124782  1.144046e+06  \n",
            "min      23.310000  0.000000e+00  \n",
            "25%      37.777500  5.082065e+05  \n",
            "50%      45.260000  8.599355e+05  \n",
            "75%      49.350000  1.448700e+06  \n",
            "max      70.560000  7.387900e+06  \n",
            "std       7.845554  9.774531e+05  \n"
          ]
        }
      ]
    },
    {
      "cell_type": "code",
      "source": [
        "# Parse the dates, sort, then set index to the 'time' column\n",
        "StockPrices = pd.read_csv(\"PLX_stock_data.csv\", parse_dates=['time'])\n",
        "StockPrices = StockPrices.sort_values('time')  # We don't have to with this dataset\n",
        "StockPrices = StockPrices.set_index('time')\n",
        "StockPrices.head()"
      ],
      "metadata": {
        "colab": {
          "base_uri": "https://localhost:8080/",
          "height": 237
        },
        "id": "GPivKGPQqkF5",
        "outputId": "143ca938-69a0-4533-f9c3-73cac7bf0acc"
      },
      "execution_count": 4,
      "outputs": [
        {
          "output_type": "execute_result",
          "data": {
            "text/plain": [
              "             open   high    low  close   volume\n",
              "time                                           \n",
              "2017-04-21  37.43  37.43  33.24  35.34  4820970\n",
              "2017-04-24  35.34  35.77  34.69  34.98  1757390\n",
              "2017-04-25  34.76  34.98  32.56  32.63  2533550\n",
              "2017-04-26  31.15  32.16  31.15  31.87  1743790\n",
              "2017-04-27  31.87  33.17  31.87  33.17   825430"
            ],
            "text/html": [
              "\n",
              "  <div id=\"df-e328a63a-d54d-4998-8efc-b3995a9a9b94\" class=\"colab-df-container\">\n",
              "    <div>\n",
              "<style scoped>\n",
              "    .dataframe tbody tr th:only-of-type {\n",
              "        vertical-align: middle;\n",
              "    }\n",
              "\n",
              "    .dataframe tbody tr th {\n",
              "        vertical-align: top;\n",
              "    }\n",
              "\n",
              "    .dataframe thead th {\n",
              "        text-align: right;\n",
              "    }\n",
              "</style>\n",
              "<table border=\"1\" class=\"dataframe\">\n",
              "  <thead>\n",
              "    <tr style=\"text-align: right;\">\n",
              "      <th></th>\n",
              "      <th>open</th>\n",
              "      <th>high</th>\n",
              "      <th>low</th>\n",
              "      <th>close</th>\n",
              "      <th>volume</th>\n",
              "    </tr>\n",
              "    <tr>\n",
              "      <th>time</th>\n",
              "      <th></th>\n",
              "      <th></th>\n",
              "      <th></th>\n",
              "      <th></th>\n",
              "      <th></th>\n",
              "    </tr>\n",
              "  </thead>\n",
              "  <tbody>\n",
              "    <tr>\n",
              "      <th>2017-04-21</th>\n",
              "      <td>37.43</td>\n",
              "      <td>37.43</td>\n",
              "      <td>33.24</td>\n",
              "      <td>35.34</td>\n",
              "      <td>4820970</td>\n",
              "    </tr>\n",
              "    <tr>\n",
              "      <th>2017-04-24</th>\n",
              "      <td>35.34</td>\n",
              "      <td>35.77</td>\n",
              "      <td>34.69</td>\n",
              "      <td>34.98</td>\n",
              "      <td>1757390</td>\n",
              "    </tr>\n",
              "    <tr>\n",
              "      <th>2017-04-25</th>\n",
              "      <td>34.76</td>\n",
              "      <td>34.98</td>\n",
              "      <td>32.56</td>\n",
              "      <td>32.63</td>\n",
              "      <td>2533550</td>\n",
              "    </tr>\n",
              "    <tr>\n",
              "      <th>2017-04-26</th>\n",
              "      <td>31.15</td>\n",
              "      <td>32.16</td>\n",
              "      <td>31.15</td>\n",
              "      <td>31.87</td>\n",
              "      <td>1743790</td>\n",
              "    </tr>\n",
              "    <tr>\n",
              "      <th>2017-04-27</th>\n",
              "      <td>31.87</td>\n",
              "      <td>33.17</td>\n",
              "      <td>31.87</td>\n",
              "      <td>33.17</td>\n",
              "      <td>825430</td>\n",
              "    </tr>\n",
              "  </tbody>\n",
              "</table>\n",
              "</div>\n",
              "    <div class=\"colab-df-buttons\">\n",
              "\n",
              "  <div class=\"colab-df-container\">\n",
              "    <button class=\"colab-df-convert\" onclick=\"convertToInteractive('df-e328a63a-d54d-4998-8efc-b3995a9a9b94')\"\n",
              "            title=\"Convert this dataframe to an interactive table.\"\n",
              "            style=\"display:none;\">\n",
              "\n",
              "  <svg xmlns=\"http://www.w3.org/2000/svg\" height=\"24px\" viewBox=\"0 -960 960 960\">\n",
              "    <path d=\"M120-120v-720h720v720H120Zm60-500h600v-160H180v160Zm220 220h160v-160H400v160Zm0 220h160v-160H400v160ZM180-400h160v-160H180v160Zm440 0h160v-160H620v160ZM180-180h160v-160H180v160Zm440 0h160v-160H620v160Z\"/>\n",
              "  </svg>\n",
              "    </button>\n",
              "\n",
              "  <style>\n",
              "    .colab-df-container {\n",
              "      display:flex;\n",
              "      gap: 12px;\n",
              "    }\n",
              "\n",
              "    .colab-df-convert {\n",
              "      background-color: #E8F0FE;\n",
              "      border: none;\n",
              "      border-radius: 50%;\n",
              "      cursor: pointer;\n",
              "      display: none;\n",
              "      fill: #1967D2;\n",
              "      height: 32px;\n",
              "      padding: 0 0 0 0;\n",
              "      width: 32px;\n",
              "    }\n",
              "\n",
              "    .colab-df-convert:hover {\n",
              "      background-color: #E2EBFA;\n",
              "      box-shadow: 0px 1px 2px rgba(60, 64, 67, 0.3), 0px 1px 3px 1px rgba(60, 64, 67, 0.15);\n",
              "      fill: #174EA6;\n",
              "    }\n",
              "\n",
              "    .colab-df-buttons div {\n",
              "      margin-bottom: 4px;\n",
              "    }\n",
              "\n",
              "    [theme=dark] .colab-df-convert {\n",
              "      background-color: #3B4455;\n",
              "      fill: #D2E3FC;\n",
              "    }\n",
              "\n",
              "    [theme=dark] .colab-df-convert:hover {\n",
              "      background-color: #434B5C;\n",
              "      box-shadow: 0px 1px 3px 1px rgba(0, 0, 0, 0.15);\n",
              "      filter: drop-shadow(0px 1px 2px rgba(0, 0, 0, 0.3));\n",
              "      fill: #FFFFFF;\n",
              "    }\n",
              "  </style>\n",
              "\n",
              "    <script>\n",
              "      const buttonEl =\n",
              "        document.querySelector('#df-e328a63a-d54d-4998-8efc-b3995a9a9b94 button.colab-df-convert');\n",
              "      buttonEl.style.display =\n",
              "        google.colab.kernel.accessAllowed ? 'block' : 'none';\n",
              "\n",
              "      async function convertToInteractive(key) {\n",
              "        const element = document.querySelector('#df-e328a63a-d54d-4998-8efc-b3995a9a9b94');\n",
              "        const dataTable =\n",
              "          await google.colab.kernel.invokeFunction('convertToInteractive',\n",
              "                                                    [key], {});\n",
              "        if (!dataTable) return;\n",
              "\n",
              "        const docLinkHtml = 'Like what you see? Visit the ' +\n",
              "          '<a target=\"_blank\" href=https://colab.research.google.com/notebooks/data_table.ipynb>data table notebook</a>'\n",
              "          + ' to learn more about interactive tables.';\n",
              "        element.innerHTML = '';\n",
              "        dataTable['output_type'] = 'display_data';\n",
              "        await google.colab.output.renderOutput(dataTable, element);\n",
              "        const docLink = document.createElement('div');\n",
              "        docLink.innerHTML = docLinkHtml;\n",
              "        element.appendChild(docLink);\n",
              "      }\n",
              "    </script>\n",
              "  </div>\n",
              "\n",
              "\n",
              "<div id=\"df-65631807-c9a6-4aeb-8464-e49316e1c725\">\n",
              "  <button class=\"colab-df-quickchart\" onclick=\"quickchart('df-65631807-c9a6-4aeb-8464-e49316e1c725')\"\n",
              "            title=\"Suggest charts\"\n",
              "            style=\"display:none;\">\n",
              "\n",
              "<svg xmlns=\"http://www.w3.org/2000/svg\" height=\"24px\"viewBox=\"0 0 24 24\"\n",
              "     width=\"24px\">\n",
              "    <g>\n",
              "        <path d=\"M19 3H5c-1.1 0-2 .9-2 2v14c0 1.1.9 2 2 2h14c1.1 0 2-.9 2-2V5c0-1.1-.9-2-2-2zM9 17H7v-7h2v7zm4 0h-2V7h2v10zm4 0h-2v-4h2v4z\"/>\n",
              "    </g>\n",
              "</svg>\n",
              "  </button>\n",
              "\n",
              "<style>\n",
              "  .colab-df-quickchart {\n",
              "      --bg-color: #E8F0FE;\n",
              "      --fill-color: #1967D2;\n",
              "      --hover-bg-color: #E2EBFA;\n",
              "      --hover-fill-color: #174EA6;\n",
              "      --disabled-fill-color: #AAA;\n",
              "      --disabled-bg-color: #DDD;\n",
              "  }\n",
              "\n",
              "  [theme=dark] .colab-df-quickchart {\n",
              "      --bg-color: #3B4455;\n",
              "      --fill-color: #D2E3FC;\n",
              "      --hover-bg-color: #434B5C;\n",
              "      --hover-fill-color: #FFFFFF;\n",
              "      --disabled-bg-color: #3B4455;\n",
              "      --disabled-fill-color: #666;\n",
              "  }\n",
              "\n",
              "  .colab-df-quickchart {\n",
              "    background-color: var(--bg-color);\n",
              "    border: none;\n",
              "    border-radius: 50%;\n",
              "    cursor: pointer;\n",
              "    display: none;\n",
              "    fill: var(--fill-color);\n",
              "    height: 32px;\n",
              "    padding: 0;\n",
              "    width: 32px;\n",
              "  }\n",
              "\n",
              "  .colab-df-quickchart:hover {\n",
              "    background-color: var(--hover-bg-color);\n",
              "    box-shadow: 0 1px 2px rgba(60, 64, 67, 0.3), 0 1px 3px 1px rgba(60, 64, 67, 0.15);\n",
              "    fill: var(--button-hover-fill-color);\n",
              "  }\n",
              "\n",
              "  .colab-df-quickchart-complete:disabled,\n",
              "  .colab-df-quickchart-complete:disabled:hover {\n",
              "    background-color: var(--disabled-bg-color);\n",
              "    fill: var(--disabled-fill-color);\n",
              "    box-shadow: none;\n",
              "  }\n",
              "\n",
              "  .colab-df-spinner {\n",
              "    border: 2px solid var(--fill-color);\n",
              "    border-color: transparent;\n",
              "    border-bottom-color: var(--fill-color);\n",
              "    animation:\n",
              "      spin 1s steps(1) infinite;\n",
              "  }\n",
              "\n",
              "  @keyframes spin {\n",
              "    0% {\n",
              "      border-color: transparent;\n",
              "      border-bottom-color: var(--fill-color);\n",
              "      border-left-color: var(--fill-color);\n",
              "    }\n",
              "    20% {\n",
              "      border-color: transparent;\n",
              "      border-left-color: var(--fill-color);\n",
              "      border-top-color: var(--fill-color);\n",
              "    }\n",
              "    30% {\n",
              "      border-color: transparent;\n",
              "      border-left-color: var(--fill-color);\n",
              "      border-top-color: var(--fill-color);\n",
              "      border-right-color: var(--fill-color);\n",
              "    }\n",
              "    40% {\n",
              "      border-color: transparent;\n",
              "      border-right-color: var(--fill-color);\n",
              "      border-top-color: var(--fill-color);\n",
              "    }\n",
              "    60% {\n",
              "      border-color: transparent;\n",
              "      border-right-color: var(--fill-color);\n",
              "    }\n",
              "    80% {\n",
              "      border-color: transparent;\n",
              "      border-right-color: var(--fill-color);\n",
              "      border-bottom-color: var(--fill-color);\n",
              "    }\n",
              "    90% {\n",
              "      border-color: transparent;\n",
              "      border-bottom-color: var(--fill-color);\n",
              "    }\n",
              "  }\n",
              "</style>\n",
              "\n",
              "  <script>\n",
              "    async function quickchart(key) {\n",
              "      const quickchartButtonEl =\n",
              "        document.querySelector('#' + key + ' button');\n",
              "      quickchartButtonEl.disabled = true;  // To prevent multiple clicks.\n",
              "      quickchartButtonEl.classList.add('colab-df-spinner');\n",
              "      try {\n",
              "        const charts = await google.colab.kernel.invokeFunction(\n",
              "            'suggestCharts', [key], {});\n",
              "      } catch (error) {\n",
              "        console.error('Error during call to suggestCharts:', error);\n",
              "      }\n",
              "      quickchartButtonEl.classList.remove('colab-df-spinner');\n",
              "      quickchartButtonEl.classList.add('colab-df-quickchart-complete');\n",
              "    }\n",
              "    (() => {\n",
              "      let quickchartButtonEl =\n",
              "        document.querySelector('#df-65631807-c9a6-4aeb-8464-e49316e1c725 button');\n",
              "      quickchartButtonEl.style.display =\n",
              "        google.colab.kernel.accessAllowed ? 'block' : 'none';\n",
              "    })();\n",
              "  </script>\n",
              "</div>\n",
              "\n",
              "    </div>\n",
              "  </div>\n"
            ],
            "application/vnd.google.colaboratory.intrinsic+json": {
              "type": "dataframe",
              "variable_name": "StockPrices",
              "summary": "{\n  \"name\": \"StockPrices\",\n  \"rows\": 1928,\n  \"fields\": [\n    {\n      \"column\": \"time\",\n      \"properties\": {\n        \"dtype\": \"date\",\n        \"min\": \"2017-04-21 00:00:00\",\n        \"max\": \"2024-12-31 00:00:00\",\n        \"num_unique_values\": 1928,\n        \"samples\": [\n          \"2021-10-07 00:00:00\",\n          \"2023-11-24 00:00:00\",\n          \"2024-10-02 00:00:00\"\n        ],\n        \"semantic_type\": \"\",\n        \"description\": \"\"\n      }\n    },\n    {\n      \"column\": \"open\",\n      \"properties\": {\n        \"dtype\": \"number\",\n        \"std\": 7.846202075567476,\n        \"min\": 21.7,\n        \"max\": 71.4,\n        \"num_unique_values\": 955,\n        \"samples\": [\n          43.76,\n          40.89,\n          25.4\n        ],\n        \"semantic_type\": \"\",\n        \"description\": \"\"\n      }\n    },\n    {\n      \"column\": \"high\",\n      \"properties\": {\n        \"dtype\": \"number\",\n        \"std\": 7.955428900591783,\n        \"min\": 24.35,\n        \"max\": 72.38,\n        \"num_unique_values\": 965,\n        \"samples\": [\n          37.95,\n          40.24,\n          66.47\n        ],\n        \"semantic_type\": \"\",\n        \"description\": \"\"\n      }\n    },\n    {\n      \"column\": \"low\",\n      \"properties\": {\n        \"dtype\": \"number\",\n        \"std\": 7.724232845410663,\n        \"min\": 21.7,\n        \"max\": 70.56,\n        \"num_unique_values\": 958,\n        \"samples\": [\n          34.65,\n          36.44,\n          47.35\n        ],\n        \"semantic_type\": \"\",\n        \"description\": \"\"\n      }\n    },\n    {\n      \"column\": \"close\",\n      \"properties\": {\n        \"dtype\": \"number\",\n        \"std\": 7.845554223471627,\n        \"min\": 23.31,\n        \"max\": 70.56,\n        \"num_unique_values\": 947,\n        \"samples\": [\n          49.63,\n          41.75,\n          58.44\n        ],\n        \"semantic_type\": \"\",\n        \"description\": \"\"\n      }\n    },\n    {\n      \"column\": \"volume\",\n      \"properties\": {\n        \"dtype\": \"number\",\n        \"std\": 977453,\n        \"min\": 0,\n        \"max\": 7387900,\n        \"num_unique_values\": 1919,\n        \"samples\": [\n          381244,\n          932480,\n          259680\n        ],\n        \"semantic_type\": \"\",\n        \"description\": \"\"\n      }\n    }\n  ]\n}"
            }
          },
          "metadata": {},
          "execution_count": 4
        }
      ]
    },
    {
      "cell_type": "code",
      "source": [
        "# We are using Discrete returns here (Pt2 - Pt1)/Pt1\n",
        "StockPrices[\"Returns\"] = StockPrices[\"close\"].pct_change()\n",
        "StockPrices.head()"
      ],
      "metadata": {
        "colab": {
          "base_uri": "https://localhost:8080/",
          "height": 237
        },
        "id": "7vbLb1WTrFTr",
        "outputId": "8f86498e-69a4-416e-8b30-f284ff2c1a97"
      },
      "execution_count": 5,
      "outputs": [
        {
          "output_type": "execute_result",
          "data": {
            "text/plain": [
              "             open   high    low  close   volume   Returns\n",
              "time                                                     \n",
              "2017-04-21  37.43  37.43  33.24  35.34  4820970       NaN\n",
              "2017-04-24  35.34  35.77  34.69  34.98  1757390 -0.010187\n",
              "2017-04-25  34.76  34.98  32.56  32.63  2533550 -0.067181\n",
              "2017-04-26  31.15  32.16  31.15  31.87  1743790 -0.023291\n",
              "2017-04-27  31.87  33.17  31.87  33.17   825430  0.040791"
            ],
            "text/html": [
              "\n",
              "  <div id=\"df-74079e34-173e-4a2e-94e5-4ec989edaa68\" class=\"colab-df-container\">\n",
              "    <div>\n",
              "<style scoped>\n",
              "    .dataframe tbody tr th:only-of-type {\n",
              "        vertical-align: middle;\n",
              "    }\n",
              "\n",
              "    .dataframe tbody tr th {\n",
              "        vertical-align: top;\n",
              "    }\n",
              "\n",
              "    .dataframe thead th {\n",
              "        text-align: right;\n",
              "    }\n",
              "</style>\n",
              "<table border=\"1\" class=\"dataframe\">\n",
              "  <thead>\n",
              "    <tr style=\"text-align: right;\">\n",
              "      <th></th>\n",
              "      <th>open</th>\n",
              "      <th>high</th>\n",
              "      <th>low</th>\n",
              "      <th>close</th>\n",
              "      <th>volume</th>\n",
              "      <th>Returns</th>\n",
              "    </tr>\n",
              "    <tr>\n",
              "      <th>time</th>\n",
              "      <th></th>\n",
              "      <th></th>\n",
              "      <th></th>\n",
              "      <th></th>\n",
              "      <th></th>\n",
              "      <th></th>\n",
              "    </tr>\n",
              "  </thead>\n",
              "  <tbody>\n",
              "    <tr>\n",
              "      <th>2017-04-21</th>\n",
              "      <td>37.43</td>\n",
              "      <td>37.43</td>\n",
              "      <td>33.24</td>\n",
              "      <td>35.34</td>\n",
              "      <td>4820970</td>\n",
              "      <td>NaN</td>\n",
              "    </tr>\n",
              "    <tr>\n",
              "      <th>2017-04-24</th>\n",
              "      <td>35.34</td>\n",
              "      <td>35.77</td>\n",
              "      <td>34.69</td>\n",
              "      <td>34.98</td>\n",
              "      <td>1757390</td>\n",
              "      <td>-0.010187</td>\n",
              "    </tr>\n",
              "    <tr>\n",
              "      <th>2017-04-25</th>\n",
              "      <td>34.76</td>\n",
              "      <td>34.98</td>\n",
              "      <td>32.56</td>\n",
              "      <td>32.63</td>\n",
              "      <td>2533550</td>\n",
              "      <td>-0.067181</td>\n",
              "    </tr>\n",
              "    <tr>\n",
              "      <th>2017-04-26</th>\n",
              "      <td>31.15</td>\n",
              "      <td>32.16</td>\n",
              "      <td>31.15</td>\n",
              "      <td>31.87</td>\n",
              "      <td>1743790</td>\n",
              "      <td>-0.023291</td>\n",
              "    </tr>\n",
              "    <tr>\n",
              "      <th>2017-04-27</th>\n",
              "      <td>31.87</td>\n",
              "      <td>33.17</td>\n",
              "      <td>31.87</td>\n",
              "      <td>33.17</td>\n",
              "      <td>825430</td>\n",
              "      <td>0.040791</td>\n",
              "    </tr>\n",
              "  </tbody>\n",
              "</table>\n",
              "</div>\n",
              "    <div class=\"colab-df-buttons\">\n",
              "\n",
              "  <div class=\"colab-df-container\">\n",
              "    <button class=\"colab-df-convert\" onclick=\"convertToInteractive('df-74079e34-173e-4a2e-94e5-4ec989edaa68')\"\n",
              "            title=\"Convert this dataframe to an interactive table.\"\n",
              "            style=\"display:none;\">\n",
              "\n",
              "  <svg xmlns=\"http://www.w3.org/2000/svg\" height=\"24px\" viewBox=\"0 -960 960 960\">\n",
              "    <path d=\"M120-120v-720h720v720H120Zm60-500h600v-160H180v160Zm220 220h160v-160H400v160Zm0 220h160v-160H400v160ZM180-400h160v-160H180v160Zm440 0h160v-160H620v160ZM180-180h160v-160H180v160Zm440 0h160v-160H620v160Z\"/>\n",
              "  </svg>\n",
              "    </button>\n",
              "\n",
              "  <style>\n",
              "    .colab-df-container {\n",
              "      display:flex;\n",
              "      gap: 12px;\n",
              "    }\n",
              "\n",
              "    .colab-df-convert {\n",
              "      background-color: #E8F0FE;\n",
              "      border: none;\n",
              "      border-radius: 50%;\n",
              "      cursor: pointer;\n",
              "      display: none;\n",
              "      fill: #1967D2;\n",
              "      height: 32px;\n",
              "      padding: 0 0 0 0;\n",
              "      width: 32px;\n",
              "    }\n",
              "\n",
              "    .colab-df-convert:hover {\n",
              "      background-color: #E2EBFA;\n",
              "      box-shadow: 0px 1px 2px rgba(60, 64, 67, 0.3), 0px 1px 3px 1px rgba(60, 64, 67, 0.15);\n",
              "      fill: #174EA6;\n",
              "    }\n",
              "\n",
              "    .colab-df-buttons div {\n",
              "      margin-bottom: 4px;\n",
              "    }\n",
              "\n",
              "    [theme=dark] .colab-df-convert {\n",
              "      background-color: #3B4455;\n",
              "      fill: #D2E3FC;\n",
              "    }\n",
              "\n",
              "    [theme=dark] .colab-df-convert:hover {\n",
              "      background-color: #434B5C;\n",
              "      box-shadow: 0px 1px 3px 1px rgba(0, 0, 0, 0.15);\n",
              "      filter: drop-shadow(0px 1px 2px rgba(0, 0, 0, 0.3));\n",
              "      fill: #FFFFFF;\n",
              "    }\n",
              "  </style>\n",
              "\n",
              "    <script>\n",
              "      const buttonEl =\n",
              "        document.querySelector('#df-74079e34-173e-4a2e-94e5-4ec989edaa68 button.colab-df-convert');\n",
              "      buttonEl.style.display =\n",
              "        google.colab.kernel.accessAllowed ? 'block' : 'none';\n",
              "\n",
              "      async function convertToInteractive(key) {\n",
              "        const element = document.querySelector('#df-74079e34-173e-4a2e-94e5-4ec989edaa68');\n",
              "        const dataTable =\n",
              "          await google.colab.kernel.invokeFunction('convertToInteractive',\n",
              "                                                    [key], {});\n",
              "        if (!dataTable) return;\n",
              "\n",
              "        const docLinkHtml = 'Like what you see? Visit the ' +\n",
              "          '<a target=\"_blank\" href=https://colab.research.google.com/notebooks/data_table.ipynb>data table notebook</a>'\n",
              "          + ' to learn more about interactive tables.';\n",
              "        element.innerHTML = '';\n",
              "        dataTable['output_type'] = 'display_data';\n",
              "        await google.colab.output.renderOutput(dataTable, element);\n",
              "        const docLink = document.createElement('div');\n",
              "        docLink.innerHTML = docLinkHtml;\n",
              "        element.appendChild(docLink);\n",
              "      }\n",
              "    </script>\n",
              "  </div>\n",
              "\n",
              "\n",
              "<div id=\"df-4ce44485-97a7-45e4-81a0-588192dcebe2\">\n",
              "  <button class=\"colab-df-quickchart\" onclick=\"quickchart('df-4ce44485-97a7-45e4-81a0-588192dcebe2')\"\n",
              "            title=\"Suggest charts\"\n",
              "            style=\"display:none;\">\n",
              "\n",
              "<svg xmlns=\"http://www.w3.org/2000/svg\" height=\"24px\"viewBox=\"0 0 24 24\"\n",
              "     width=\"24px\">\n",
              "    <g>\n",
              "        <path d=\"M19 3H5c-1.1 0-2 .9-2 2v14c0 1.1.9 2 2 2h14c1.1 0 2-.9 2-2V5c0-1.1-.9-2-2-2zM9 17H7v-7h2v7zm4 0h-2V7h2v10zm4 0h-2v-4h2v4z\"/>\n",
              "    </g>\n",
              "</svg>\n",
              "  </button>\n",
              "\n",
              "<style>\n",
              "  .colab-df-quickchart {\n",
              "      --bg-color: #E8F0FE;\n",
              "      --fill-color: #1967D2;\n",
              "      --hover-bg-color: #E2EBFA;\n",
              "      --hover-fill-color: #174EA6;\n",
              "      --disabled-fill-color: #AAA;\n",
              "      --disabled-bg-color: #DDD;\n",
              "  }\n",
              "\n",
              "  [theme=dark] .colab-df-quickchart {\n",
              "      --bg-color: #3B4455;\n",
              "      --fill-color: #D2E3FC;\n",
              "      --hover-bg-color: #434B5C;\n",
              "      --hover-fill-color: #FFFFFF;\n",
              "      --disabled-bg-color: #3B4455;\n",
              "      --disabled-fill-color: #666;\n",
              "  }\n",
              "\n",
              "  .colab-df-quickchart {\n",
              "    background-color: var(--bg-color);\n",
              "    border: none;\n",
              "    border-radius: 50%;\n",
              "    cursor: pointer;\n",
              "    display: none;\n",
              "    fill: var(--fill-color);\n",
              "    height: 32px;\n",
              "    padding: 0;\n",
              "    width: 32px;\n",
              "  }\n",
              "\n",
              "  .colab-df-quickchart:hover {\n",
              "    background-color: var(--hover-bg-color);\n",
              "    box-shadow: 0 1px 2px rgba(60, 64, 67, 0.3), 0 1px 3px 1px rgba(60, 64, 67, 0.15);\n",
              "    fill: var(--button-hover-fill-color);\n",
              "  }\n",
              "\n",
              "  .colab-df-quickchart-complete:disabled,\n",
              "  .colab-df-quickchart-complete:disabled:hover {\n",
              "    background-color: var(--disabled-bg-color);\n",
              "    fill: var(--disabled-fill-color);\n",
              "    box-shadow: none;\n",
              "  }\n",
              "\n",
              "  .colab-df-spinner {\n",
              "    border: 2px solid var(--fill-color);\n",
              "    border-color: transparent;\n",
              "    border-bottom-color: var(--fill-color);\n",
              "    animation:\n",
              "      spin 1s steps(1) infinite;\n",
              "  }\n",
              "\n",
              "  @keyframes spin {\n",
              "    0% {\n",
              "      border-color: transparent;\n",
              "      border-bottom-color: var(--fill-color);\n",
              "      border-left-color: var(--fill-color);\n",
              "    }\n",
              "    20% {\n",
              "      border-color: transparent;\n",
              "      border-left-color: var(--fill-color);\n",
              "      border-top-color: var(--fill-color);\n",
              "    }\n",
              "    30% {\n",
              "      border-color: transparent;\n",
              "      border-left-color: var(--fill-color);\n",
              "      border-top-color: var(--fill-color);\n",
              "      border-right-color: var(--fill-color);\n",
              "    }\n",
              "    40% {\n",
              "      border-color: transparent;\n",
              "      border-right-color: var(--fill-color);\n",
              "      border-top-color: var(--fill-color);\n",
              "    }\n",
              "    60% {\n",
              "      border-color: transparent;\n",
              "      border-right-color: var(--fill-color);\n",
              "    }\n",
              "    80% {\n",
              "      border-color: transparent;\n",
              "      border-right-color: var(--fill-color);\n",
              "      border-bottom-color: var(--fill-color);\n",
              "    }\n",
              "    90% {\n",
              "      border-color: transparent;\n",
              "      border-bottom-color: var(--fill-color);\n",
              "    }\n",
              "  }\n",
              "</style>\n",
              "\n",
              "  <script>\n",
              "    async function quickchart(key) {\n",
              "      const quickchartButtonEl =\n",
              "        document.querySelector('#' + key + ' button');\n",
              "      quickchartButtonEl.disabled = true;  // To prevent multiple clicks.\n",
              "      quickchartButtonEl.classList.add('colab-df-spinner');\n",
              "      try {\n",
              "        const charts = await google.colab.kernel.invokeFunction(\n",
              "            'suggestCharts', [key], {});\n",
              "      } catch (error) {\n",
              "        console.error('Error during call to suggestCharts:', error);\n",
              "      }\n",
              "      quickchartButtonEl.classList.remove('colab-df-spinner');\n",
              "      quickchartButtonEl.classList.add('colab-df-quickchart-complete');\n",
              "    }\n",
              "    (() => {\n",
              "      let quickchartButtonEl =\n",
              "        document.querySelector('#df-4ce44485-97a7-45e4-81a0-588192dcebe2 button');\n",
              "      quickchartButtonEl.style.display =\n",
              "        google.colab.kernel.accessAllowed ? 'block' : 'none';\n",
              "    })();\n",
              "  </script>\n",
              "</div>\n",
              "\n",
              "    </div>\n",
              "  </div>\n"
            ],
            "application/vnd.google.colaboratory.intrinsic+json": {
              "type": "dataframe",
              "variable_name": "StockPrices",
              "summary": "{\n  \"name\": \"StockPrices\",\n  \"rows\": 1928,\n  \"fields\": [\n    {\n      \"column\": \"time\",\n      \"properties\": {\n        \"dtype\": \"date\",\n        \"min\": \"2017-04-21 00:00:00\",\n        \"max\": \"2024-12-31 00:00:00\",\n        \"num_unique_values\": 1928,\n        \"samples\": [\n          \"2021-10-07 00:00:00\",\n          \"2023-11-24 00:00:00\",\n          \"2024-10-02 00:00:00\"\n        ],\n        \"semantic_type\": \"\",\n        \"description\": \"\"\n      }\n    },\n    {\n      \"column\": \"open\",\n      \"properties\": {\n        \"dtype\": \"number\",\n        \"std\": 7.846202075567476,\n        \"min\": 21.7,\n        \"max\": 71.4,\n        \"num_unique_values\": 955,\n        \"samples\": [\n          43.76,\n          40.89,\n          25.4\n        ],\n        \"semantic_type\": \"\",\n        \"description\": \"\"\n      }\n    },\n    {\n      \"column\": \"high\",\n      \"properties\": {\n        \"dtype\": \"number\",\n        \"std\": 7.955428900591783,\n        \"min\": 24.35,\n        \"max\": 72.38,\n        \"num_unique_values\": 965,\n        \"samples\": [\n          37.95,\n          40.24,\n          66.47\n        ],\n        \"semantic_type\": \"\",\n        \"description\": \"\"\n      }\n    },\n    {\n      \"column\": \"low\",\n      \"properties\": {\n        \"dtype\": \"number\",\n        \"std\": 7.724232845410663,\n        \"min\": 21.7,\n        \"max\": 70.56,\n        \"num_unique_values\": 958,\n        \"samples\": [\n          34.65,\n          36.44,\n          47.35\n        ],\n        \"semantic_type\": \"\",\n        \"description\": \"\"\n      }\n    },\n    {\n      \"column\": \"close\",\n      \"properties\": {\n        \"dtype\": \"number\",\n        \"std\": 7.845554223471627,\n        \"min\": 23.31,\n        \"max\": 70.56,\n        \"num_unique_values\": 947,\n        \"samples\": [\n          49.63,\n          41.75,\n          58.44\n        ],\n        \"semantic_type\": \"\",\n        \"description\": \"\"\n      }\n    },\n    {\n      \"column\": \"volume\",\n      \"properties\": {\n        \"dtype\": \"number\",\n        \"std\": 977453,\n        \"min\": 0,\n        \"max\": 7387900,\n        \"num_unique_values\": 1919,\n        \"samples\": [\n          381244,\n          932480,\n          259680\n        ],\n        \"semantic_type\": \"\",\n        \"description\": \"\"\n      }\n    },\n    {\n      \"column\": \"Returns\",\n      \"properties\": {\n        \"dtype\": \"number\",\n        \"std\": 0.0207370432765086,\n        \"min\": -0.0699790062981106,\n        \"max\": 0.07000307031010133,\n        \"num_unique_values\": 1740,\n        \"samples\": [\n          0.00940910801655992,\n          -0.0015124016938899976,\n          -0.015637065637065573\n        ],\n        \"semantic_type\": \"\",\n        \"description\": \"\"\n      }\n    }\n  ]\n}"
            }
          },
          "metadata": {},
          "execution_count": 5
        }
      ]
    },
    {
      "cell_type": "code",
      "source": [
        "import matplotlib.pyplot as plt\n",
        "\n",
        "# Plot returns over time\n",
        "StockPrices['Returns'].plot()\n",
        "plt.show()"
      ],
      "metadata": {
        "colab": {
          "base_uri": "https://localhost:8080/",
          "height": 422
        },
        "id": "MjjkC3IgrYCa",
        "outputId": "6c8ae240-1f2c-4554-9419-672cc511b620"
      },
      "execution_count": 6,
      "outputs": [
        {
          "output_type": "display_data",
          "data": {
            "text/plain": [
              "<Figure size 640x480 with 1 Axes>"
            ],
            "image/png": "[encoded data removed]"
          },
          "metadata": {}
        }
      ]
    },
    {
      "cell_type": "markdown",
      "source": [
        "Urgh, so much noise"
      ],
      "metadata": {
        "id": "xZp0R9Uur4G_"
      }
    },
    {
      "cell_type": "code",
      "source": [
        "# Return distribution\n",
        "returns_percentage = StockPrices[\"Returns\"] * 100  # Convert decimal into percentage\n",
        "plt.hist(returns_percentage.dropna(), # There is 1 NaN\n",
        "         bins=75,\n",
        "         density=False)\n",
        "plt.show()"
      ],
      "metadata": {
        "colab": {
          "base_uri": "https://localhost:8080/",
          "height": 430
        },
        "id": "2RXkhBElr6bT",
        "outputId": "a3b674d7-f4db-446d-a290-30d6f45bb578"
      },
      "execution_count": 7,
      "outputs": [
        {
          "output_type": "display_data",
          "data": {
            "text/plain": [
              "<Figure size 640x480 with 1 Axes>"
            ],
            "image/png": "[encoded data removed]"
          },
          "metadata": {}
        }
      ]
    },
    {
      "cell_type": "markdown",
      "source": [
        "Mean"
      ],
      "metadata": {
        "id": "Jx17ZTJoti2r"
      }
    },
    {
      "cell_type": "code",
      "source": [
        "import numpy as np\n",
        "daily_return = np.mean(StockPrices[\"Returns\"])\n",
        "print(daily_return)\n",
        "annualized_return = ((1+np.mean(StockPrices[\"Returns\"]))**252)-1  # Annualized mean returns\n",
        "print(annualized_return)"
      ],
      "metadata": {
        "colab": {
          "base_uri": "https://localhost:8080/"
        },
        "id": "CH57wsSwtbVm",
        "outputId": "68645ba5-f9e5-4998-f58c-0f6f1cf7b046"
      },
      "execution_count": 8,
      "outputs": [
        {
          "output_type": "stream",
          "name": "stdout",
          "text": [
            "0.0002460940738743198\n",
            "0.06397093840688339\n"
          ]
        }
      ]
    },
    {
      "cell_type": "markdown",
      "source": [
        "standard deviation and variance of returns"
      ],
      "metadata": {
        "id": "VydlAKXfuBcU"
      }
    },
    {
      "cell_type": "code",
      "source": [
        "import numpy as np\n",
        "std = np.std(StockPrices[\"Returns\"])        # calc std\n",
        "var = std**2                                # variance is std^2\n",
        "\n",
        "# Annualized\n",
        "std_annualized = std*np.sqrt(252)\n",
        "var_annualized = std_annualized**2\n",
        "\n",
        "print('std :', std)\n",
        "print('var :', var)\n",
        "print('std_annualized :', std_annualized)\n",
        "print('var_annualized :', var_annualized)"
      ],
      "metadata": {
        "colab": {
          "base_uri": "https://localhost:8080/"
        },
        "id": "0TfB9rBvuFFe",
        "outputId": "f29e5399-094a-4248-ba32-e0ce32df36c5"
      },
      "execution_count": 9,
      "outputs": [
        {
          "output_type": "stream",
          "name": "stdout",
          "text": [
            "std : 0.020731661923550075\n",
            "var : 0.000429801806112376\n",
            "std_annualized : 0.3291049302886828\n",
            "var_annualized : 0.10831005514031877\n"
          ]
        }
      ]
    },
    {
      "cell_type": "markdown",
      "source": [
        "skewness"
      ],
      "metadata": {
        "id": "1PxMl43iuQhT"
      }
    },
    {
      "cell_type": "code",
      "source": [
        "from scipy.stats import skew\n",
        "skew(StockPrices[\"Returns\"].dropna())"
      ],
      "metadata": {
        "colab": {
          "base_uri": "https://localhost:8080/"
        },
        "id": "L0_upSz9uRmz",
        "outputId": "d43dd216-1ecd-4c0f-d541-4cdea47d80af"
      },
      "execution_count": 10,
      "outputs": [
        {
          "output_type": "execute_result",
          "data": {
            "text/plain": [
              "np.float64(-0.08160497723182665)"
            ]
          },
          "metadata": {},
          "execution_count": 10
        }
      ]
    },
    {
      "cell_type": "markdown",
      "source": [
        "Kurtosis"
      ],
      "metadata": {
        "id": "lB5LyjZHucIA"
      }
    },
    {
      "cell_type": "code",
      "source": [
        "from scipy.stats import kurtosis\n",
        "kurtosis(StockPrices[\"Returns\"].dropna())  # THIS IS EXCESS KURTOSIS"
      ],
      "metadata": {
        "colab": {
          "base_uri": "https://localhost:8080/"
        },
        "id": "-G62h5kmudlo",
        "outputId": "9af484f8-bca3-4c66-b616-468ce1e14769"
      },
      "execution_count": 11,
      "outputs": [
        {
          "output_type": "execute_result",
          "data": {
            "text/plain": [
              "np.float64(2.167247918859311)"
            ]
          },
          "metadata": {},
          "execution_count": 11
        }
      ]
    },
    {
      "cell_type": "markdown",
      "source": [
        "Testing for normality"
      ],
      "metadata": {
        "id": "NqdBUbvguvsM"
      }
    },
    {
      "cell_type": "code",
      "source": [
        "from scipy import stats\n",
        "p_value = stats.shapiro(StockPrices[\"Returns\"].dropna())[1]\n",
        "if p_value <= 0.05:\n",
        "\tprint(\"Null hypothesis rejected\")\n",
        "else:\n",
        "\tprint(\"Null hypothesis accepted\")"
      ],
      "metadata": {
        "colab": {
          "base_uri": "https://localhost:8080/"
        },
        "id": "EaTATJxBux5X",
        "outputId": "2d16e0c2-930f-4384-f720-c5f2a302bf7a"
      },
      "execution_count": 12,
      "outputs": [
        {
          "output_type": "stream",
          "name": "stdout",
          "text": [
            "Null hypothesis rejected\n"
          ]
        }
      ]
    }
  ]
}