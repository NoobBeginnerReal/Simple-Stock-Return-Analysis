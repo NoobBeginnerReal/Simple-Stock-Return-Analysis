{
  "nbformat": 4,
  "nbformat_minor": 0,
  "metadata": {
    "colab": {
      "provenance": [],
      "authorship_tag": "ABX9TyPxipoiQQiRbylOkhlrgB4p",
      "include_colab_link": true
    },
    "kernelspec": {
      "name": "python3",
      "display_name": "Python 3"
    },
    "language_info": {
      "name": "python"
    }
  },
  "cells": [
    {
      "cell_type": "markdown",
      "metadata": {
        "id": "view-in-github",
        "colab_type": "text"
      },
      "source": [
        "<a href=\"https://colab.research.google.com/github/NoobBeginnerReal/Simple-Stock-Return-Analysis/blob/main/Simple_Stock_Return_Analysis_HPG.ipynb\" target=\"_parent\"><img src=\"https://colab.research.google.com/assets/colab-badge.svg\" alt=\"Open In Colab\"/></a>"
      ]
    },
    {
      "cell_type": "markdown",
      "source": [
        "# STEP 1. SETTING UP"
      ],
      "metadata": {
        "id": "3bgcOZCWp3vB"
      }
    },
    {
      "cell_type": "code",
      "execution_count": 1,
      "metadata": {
        "colab": {
          "base_uri": "https://localhost:8080/"
        },
        "id": "PfbaZlXcpMvL",
        "outputId": "89f357b8-4ff1-4f7d-8f29-692a49bbab85"
      },
      "outputs": [
        {
          "output_type": "stream",
          "name": "stdout",
          "text": [
            "Collecting vnstock\n",
            "  Downloading vnstock-3.1.0.2-py3-none-any.whl.metadata (17 kB)\n",
            "Requirement already satisfied: requests in /usr/local/lib/python3.11/dist-packages (from vnstock) (2.32.3)\n",
            "Requirement already satisfied: beautifulsoup4 in /usr/local/lib/python3.11/dist-packages (from vnstock) (4.13.3)\n",
            "Requirement already satisfied: pandas in /usr/local/lib/python3.11/dist-packages (from vnstock) (2.2.2)\n",
            "Collecting vnai>=0.1.3 (from vnstock)\n",
            "  Downloading vnai-2.0-py3-none-any.whl.metadata (947 bytes)\n",
            "Requirement already satisfied: openpyxl in /usr/local/lib/python3.11/dist-packages (from vnstock) (3.1.5)\n",
            "Requirement already satisfied: pydantic in /usr/local/lib/python3.11/dist-packages (from vnstock) (2.10.6)\n",
            "Requirement already satisfied: psutil in /usr/local/lib/python3.11/dist-packages (from vnstock) (5.9.5)\n",
            "Collecting fake_useragent (from vnstock)\n",
            "  Downloading fake_useragent-2.1.0-py3-none-any.whl.metadata (17 kB)\n",
            "Collecting vnstock_ezchart (from vnstock)\n",
            "  Downloading vnstock_ezchart-0.0.2-py3-none-any.whl.metadata (6.6 kB)\n",
            "Requirement already satisfied: click in /usr/local/lib/python3.11/dist-packages (from vnstock) (8.1.8)\n",
            "Requirement already satisfied: seaborn in /usr/local/lib/python3.11/dist-packages (from vnstock) (0.13.2)\n",
            "Requirement already satisfied: cryptography>=3.4.0 in /usr/local/lib/python3.11/dist-packages (from vnai>=0.1.3->vnstock) (43.0.3)\n",
            "Requirement already satisfied: charset-normalizer<4,>=2 in /usr/local/lib/python3.11/dist-packages (from requests->vnstock) (3.4.1)\n",
            "Requirement already satisfied: idna<4,>=2.5 in /usr/local/lib/python3.11/dist-packages (from requests->vnstock) (3.10)\n",
            "Requirement already satisfied: urllib3<3,>=1.21.1 in /usr/local/lib/python3.11/dist-packages (from requests->vnstock) (2.3.0)\n",
            "Requirement already satisfied: certifi>=2017.4.17 in /usr/local/lib/python3.11/dist-packages (from requests->vnstock) (2025.1.31)\n",
            "Requirement already satisfied: soupsieve>1.2 in /usr/local/lib/python3.11/dist-packages (from beautifulsoup4->vnstock) (2.6)\n",
            "Requirement already satisfied: typing-extensions>=4.0.0 in /usr/local/lib/python3.11/dist-packages (from beautifulsoup4->vnstock) (4.12.2)\n",
            "Requirement already satisfied: et-xmlfile in /usr/local/lib/python3.11/dist-packages (from openpyxl->vnstock) (2.0.0)\n",
            "Requirement already satisfied: numpy>=1.23.2 in /usr/local/lib/python3.11/dist-packages (from pandas->vnstock) (2.0.2)\n",
            "Requirement already satisfied: python-dateutil>=2.8.2 in /usr/local/lib/python3.11/dist-packages (from pandas->vnstock) (2.8.2)\n",
            "Requirement already satisfied: pytz>=2020.1 in /usr/local/lib/python3.11/dist-packages (from pandas->vnstock) (2025.1)\n",
            "Requirement already satisfied: tzdata>=2022.7 in /usr/local/lib/python3.11/dist-packages (from pandas->vnstock) (2025.1)\n",
            "Requirement already satisfied: annotated-types>=0.6.0 in /usr/local/lib/python3.11/dist-packages (from pydantic->vnstock) (0.7.0)\n",
            "Requirement already satisfied: pydantic-core==2.27.2 in /usr/local/lib/python3.11/dist-packages (from pydantic->vnstock) (2.27.2)\n",
            "Requirement already satisfied: matplotlib!=3.6.1,>=3.4 in /usr/local/lib/python3.11/dist-packages (from seaborn->vnstock) (3.10.0)\n",
            "Collecting squarify (from vnstock_ezchart->vnstock)\n",
            "  Downloading squarify-0.4.4-py3-none-any.whl.metadata (600 bytes)\n",
            "Requirement already satisfied: wordcloud in /usr/local/lib/python3.11/dist-packages (from vnstock_ezchart->vnstock) (1.9.4)\n",
            "Requirement already satisfied: cffi>=1.12 in /usr/local/lib/python3.11/dist-packages (from cryptography>=3.4.0->vnai>=0.1.3->vnstock) (1.17.1)\n",
            "Requirement already satisfied: contourpy>=1.0.1 in /usr/local/lib/python3.11/dist-packages (from matplotlib!=3.6.1,>=3.4->seaborn->vnstock) (1.3.1)\n",
            "Requirement already satisfied: cycler>=0.10 in /usr/local/lib/python3.11/dist-packages (from matplotlib!=3.6.1,>=3.4->seaborn->vnstock) (0.12.1)\n",
            "Requirement already satisfied: fonttools>=4.22.0 in /usr/local/lib/python3.11/dist-packages (from matplotlib!=3.6.1,>=3.4->seaborn->vnstock) (4.56.0)\n",
            "Requirement already satisfied: kiwisolver>=1.3.1 in /usr/local/lib/python3.11/dist-packages (from matplotlib!=3.6.1,>=3.4->seaborn->vnstock) (1.4.8)\n",
            "Requirement already satisfied: packaging>=20.0 in /usr/local/lib/python3.11/dist-packages (from matplotlib!=3.6.1,>=3.4->seaborn->vnstock) (24.2)\n",
            "Requirement already satisfied: pillow>=8 in /usr/local/lib/python3.11/dist-packages (from matplotlib!=3.6.1,>=3.4->seaborn->vnstock) (11.1.0)\n",
            "Requirement already satisfied: pyparsing>=2.3.1 in /usr/local/lib/python3.11/dist-packages (from matplotlib!=3.6.1,>=3.4->seaborn->vnstock) (3.2.1)\n",
            "Requirement already satisfied: six>=1.5 in /usr/local/lib/python3.11/dist-packages (from python-dateutil>=2.8.2->pandas->vnstock) (1.17.0)\n",
            "Requirement already satisfied: pycparser in /usr/local/lib/python3.11/dist-packages (from cffi>=1.12->cryptography>=3.4.0->vnai>=0.1.3->vnstock) (2.22)\n",
            "Downloading vnstock-3.1.0.2-py3-none-any.whl (90 kB)\n",
            "\u001b[2K   \u001b[90m━━━━━━━━━━━━━━━━━━━━━━━━━━━━━━━━━━━━━━━━\u001b[0m \u001b[32m90.6/90.6 kB\u001b[0m \u001b[31m2.5 MB/s\u001b[0m eta \u001b[36m0:00:00\u001b[0m\n",
            "\u001b[?25hDownloading vnai-2.0-py3-none-any.whl (19 kB)\n",
            "Downloading fake_useragent-2.1.0-py3-none-any.whl (125 kB)\n",
            "\u001b[2K   \u001b[90m━━━━━━━━━━━━━━━━━━━━━━━━━━━━━━━━━━━━━━━━\u001b[0m \u001b[32m125.8/125.8 kB\u001b[0m \u001b[31m7.6 MB/s\u001b[0m eta \u001b[36m0:00:00\u001b[0m\n",
            "\u001b[?25hDownloading vnstock_ezchart-0.0.2-py3-none-any.whl (14 kB)\n",
            "Downloading squarify-0.4.4-py3-none-any.whl (4.1 kB)\n",
            "Installing collected packages: squarify, fake_useragent, vnai, vnstock_ezchart, vnstock\n",
            "Successfully installed fake_useragent-2.1.0 squarify-0.4.4 vnai-2.0 vnstock-3.1.0.2 vnstock_ezchart-0.0.2\n"
          ]
        }
      ],
      "source": [
        "!pip install -U vnstock"
      ]
    },
    {
      "cell_type": "markdown",
      "source": [
        "# STEP 2 GETTING THE DATA"
      ],
      "metadata": {
        "id": "6qEDyG4XqBRG"
      }
    },
    {
      "cell_type": "code",
      "source": [
        "from vnstock import *\n",
        "import pandas as pd\n",
        "\n",
        "# Get VCB historical stock prices (default = daily)\n",
        "stock = Vnstock().stock(symbol='HPG', source='VCI')\n",
        "hpg_data = stock.quote.history(start='2014-01-01', end='2024-12-31')\n",
        "\n",
        "#Save to a dataframe\n",
        "df = pd.DataFrame(hpg_data)\n",
        "df.to_csv(\"HPG_stock_data.csv\", index=False, encoding='utf-8')\n",
        "\n",
        "print(\"HPG stock data saved\")"
      ],
      "metadata": {
        "colab": {
          "base_uri": "https://localhost:8080/"
        },
        "id": "VxfsFPdQqE5x",
        "outputId": "517ebdc7-2f21-429f-b71a-1444644ed9fa"
      },
      "execution_count": 3,
      "outputs": [
        {
          "output_type": "stream",
          "name": "stderr",
          "text": [
            "2025-03-19 06:36:50 - vnstock.common.data.data_explorer - WARNING - Thông tin niêm yết & giao dịch sẽ được truy xuất từ TCBS\n",
            "WARNING:vnstock.common.data.data_explorer:Thông tin niêm yết & giao dịch sẽ được truy xuất từ TCBS\n"
          ]
        },
        {
          "output_type": "stream",
          "name": "stdout",
          "text": [
            "HPG stock data saved\n"
          ]
        }
      ]
    },
    {
      "cell_type": "markdown",
      "source": [
        "# STEP 3 ANALYZE"
      ],
      "metadata": {
        "id": "wUj7-qFNwYYy"
      }
    },
    {
      "cell_type": "code",
      "source": [
        "print(df.head())\n",
        "print(df.info())\n",
        "print(df.shape)\n",
        "print(df.describe())"
      ],
      "metadata": {
        "colab": {
          "base_uri": "https://localhost:8080/"
        },
        "id": "WlyGQCDCqRpn",
        "outputId": "05206bc9-daed-4083-ad4e-20788e03b024"
      },
      "execution_count": 5,
      "outputs": [
        {
          "output_type": "stream",
          "name": "stdout",
          "text": [
            "        time  open  high   low  close  volume\n",
            "0 2014-01-02  2.74  2.74  2.70   2.71  276250\n",
            "1 2014-01-03  2.72  2.74  2.70   2.74  476880\n",
            "2 2014-01-06  2.77  2.80  2.74   2.79  452830\n",
            "3 2014-01-07  2.80  2.82  2.78   2.78  282230\n",
            "4 2014-01-08  2.77  2.81  2.77   2.80  357660\n",
            "<class 'pandas.core.frame.DataFrame'>\n",
            "RangeIndex: 2746 entries, 0 to 2745\n",
            "Data columns (total 6 columns):\n",
            " #   Column  Non-Null Count  Dtype         \n",
            "---  ------  --------------  -----         \n",
            " 0   time    2746 non-null   datetime64[ns]\n",
            " 1   open    2746 non-null   float64       \n",
            " 2   high    2746 non-null   float64       \n",
            " 3   low     2746 non-null   float64       \n",
            " 4   close   2746 non-null   float64       \n",
            " 5   volume  2746 non-null   int64         \n",
            "dtypes: datetime64[ns](1), float64(4), int64(1)\n",
            "memory usage: 128.8 KB\n",
            "None\n",
            "(2746, 6)\n",
            "                                time         open         high          low  \\\n",
            "count                           2746  2746.000000  2746.000000  2746.000000   \n",
            "mean   2019-07-08 12:13:06.598689280    14.321872    14.509680    14.137189   \n",
            "min              2014-01-02 00:00:00     2.720000     2.740000     2.700000   \n",
            "25%              2016-10-10 06:00:00     5.835000     5.905000     5.782500   \n",
            "50%              2019-07-10 12:00:00    11.065000    11.270000    10.865000   \n",
            "75%              2022-04-05 18:00:00    22.910000    23.180000    22.500000   \n",
            "max              2024-12-31 00:00:00    39.900000    40.180000    39.560000   \n",
            "std                              NaN     9.875982     9.993019     9.746687   \n",
            "\n",
            "             close        volume  \n",
            "count  2746.000000  2.746000e+03  \n",
            "mean     14.314315  1.170871e+07  \n",
            "min       2.710000  0.000000e+00  \n",
            "25%       5.832500  2.558675e+06  \n",
            "50%      11.075000  6.344065e+06  \n",
            "75%      22.817500  1.845599e+07  \n",
            "max      39.900000  9.967998e+07  \n",
            "std       9.855345  1.229564e+07  \n"
          ]
        }
      ]
    },
    {
      "cell_type": "code",
      "source": [
        "# Parse the dates, sort, then set index to the 'time' column\n",
        "StockPrices = pd.read_csv(\"HPG_stock_data.csv\", parse_dates=['time'])\n",
        "StockPrices = StockPrices.sort_values('time')  # We don't have to with this dataset\n",
        "StockPrices = StockPrices.set_index('time')\n",
        "StockPrices.head()"
      ],
      "metadata": {
        "colab": {
          "base_uri": "https://localhost:8080/",
          "height": 237
        },
        "id": "GPivKGPQqkF5",
        "outputId": "20b5b9ef-4ec0-45e5-f81b-3f3175a3274b"
      },
      "execution_count": 6,
      "outputs": [
        {
          "output_type": "execute_result",
          "data": {
            "text/plain": [
              "            open  high   low  close  volume\n",
              "time                                       \n",
              "2014-01-02  2.74  2.74  2.70   2.71  276250\n",
              "2014-01-03  2.72  2.74  2.70   2.74  476880\n",
              "2014-01-06  2.77  2.80  2.74   2.79  452830\n",
              "2014-01-07  2.80  2.82  2.78   2.78  282230\n",
              "2014-01-08  2.77  2.81  2.77   2.80  357660"
            ],
            "text/html": [
              "\n",
              "  <div id=\"df-83fda813-e000-490a-ad40-6131305b4c97\" class=\"colab-df-container\">\n",
              "    <div>\n",
              "<style scoped>\n",
              "    .dataframe tbody tr th:only-of-type {\n",
              "        vertical-align: middle;\n",
              "    }\n",
              "\n",
              "    .dataframe tbody tr th {\n",
              "        vertical-align: top;\n",
              "    }\n",
              "\n",
              "    .dataframe thead th {\n",
              "        text-align: right;\n",
              "    }\n",
              "</style>\n",
              "<table border=\"1\" class=\"dataframe\">\n",
              "  <thead>\n",
              "    <tr style=\"text-align: right;\">\n",
              "      <th></th>\n",
              "      <th>open</th>\n",
              "      <th>high</th>\n",
              "      <th>low</th>\n",
              "      <th>close</th>\n",
              "      <th>volume</th>\n",
              "    </tr>\n",
              "    <tr>\n",
              "      <th>time</th>\n",
              "      <th></th>\n",
              "      <th></th>\n",
              "      <th></th>\n",
              "      <th></th>\n",
              "      <th></th>\n",
              "    </tr>\n",
              "  </thead>\n",
              "  <tbody>\n",
              "    <tr>\n",
              "      <th>2014-01-02</th>\n",
              "      <td>2.74</td>\n",
              "      <td>2.74</td>\n",
              "      <td>2.70</td>\n",
              "      <td>2.71</td>\n",
              "      <td>276250</td>\n",
              "    </tr>\n",
              "    <tr>\n",
              "      <th>2014-01-03</th>\n",
              "      <td>2.72</td>\n",
              "      <td>2.74</td>\n",
              "      <td>2.70</td>\n",
              "      <td>2.74</td>\n",
              "      <td>476880</td>\n",
              "    </tr>\n",
              "    <tr>\n",
              "      <th>2014-01-06</th>\n",
              "      <td>2.77</td>\n",
              "      <td>2.80</td>\n",
              "      <td>2.74</td>\n",
              "      <td>2.79</td>\n",
              "      <td>452830</td>\n",
              "    </tr>\n",
              "    <tr>\n",
              "      <th>2014-01-07</th>\n",
              "      <td>2.80</td>\n",
              "      <td>2.82</td>\n",
              "      <td>2.78</td>\n",
              "      <td>2.78</td>\n",
              "      <td>282230</td>\n",
              "    </tr>\n",
              "    <tr>\n",
              "      <th>2014-01-08</th>\n",
              "      <td>2.77</td>\n",
              "      <td>2.81</td>\n",
              "      <td>2.77</td>\n",
              "      <td>2.80</td>\n",
              "      <td>357660</td>\n",
              "    </tr>\n",
              "  </tbody>\n",
              "</table>\n",
              "</div>\n",
              "    <div class=\"colab-df-buttons\">\n",
              "\n",
              "  <div class=\"colab-df-container\">\n",
              "    <button class=\"colab-df-convert\" onclick=\"convertToInteractive('df-83fda813-e000-490a-ad40-6131305b4c97')\"\n",
              "            title=\"Convert this dataframe to an interactive table.\"\n",
              "            style=\"display:none;\">\n",
              "\n",
              "  <svg xmlns=\"http://www.w3.org/2000/svg\" height=\"24px\" viewBox=\"0 -960 960 960\">\n",
              "    <path d=\"M120-120v-720h720v720H120Zm60-500h600v-160H180v160Zm220 220h160v-160H400v160Zm0 220h160v-160H400v160ZM180-400h160v-160H180v160Zm440 0h160v-160H620v160ZM180-180h160v-160H180v160Zm440 0h160v-160H620v160Z\"/>\n",
              "  </svg>\n",
              "    </button>\n",
              "\n",
              "  <style>\n",
              "    .colab-df-container {\n",
              "      display:flex;\n",
              "      gap: 12px;\n",
              "    }\n",
              "\n",
              "    .colab-df-convert {\n",
              "      background-color: #E8F0FE;\n",
              "      border: none;\n",
              "      border-radius: 50%;\n",
              "      cursor: pointer;\n",
              "      display: none;\n",
              "      fill: #1967D2;\n",
              "      height: 32px;\n",
              "      padding: 0 0 0 0;\n",
              "      width: 32px;\n",
              "    }\n",
              "\n",
              "    .colab-df-convert:hover {\n",
              "      background-color: #E2EBFA;\n",
              "      box-shadow: 0px 1px 2px rgba(60, 64, 67, 0.3), 0px 1px 3px 1px rgba(60, 64, 67, 0.15);\n",
              "      fill: #174EA6;\n",
              "    }\n",
              "\n",
              "    .colab-df-buttons div {\n",
              "      margin-bottom: 4px;\n",
              "    }\n",
              "\n",
              "    [theme=dark] .colab-df-convert {\n",
              "      background-color: #3B4455;\n",
              "      fill: #D2E3FC;\n",
              "    }\n",
              "\n",
              "    [theme=dark] .colab-df-convert:hover {\n",
              "      background-color: #434B5C;\n",
              "      box-shadow: 0px 1px 3px 1px rgba(0, 0, 0, 0.15);\n",
              "      filter: drop-shadow(0px 1px 2px rgba(0, 0, 0, 0.3));\n",
              "      fill: #FFFFFF;\n",
              "    }\n",
              "  </style>\n",
              "\n",
              "    <script>\n",
              "      const buttonEl =\n",
              "        document.querySelector('#df-83fda813-e000-490a-ad40-6131305b4c97 button.colab-df-convert');\n",
              "      buttonEl.style.display =\n",
              "        google.colab.kernel.accessAllowed ? 'block' : 'none';\n",
              "\n",
              "      async function convertToInteractive(key) {\n",
              "        const element = document.querySelector('#df-83fda813-e000-490a-ad40-6131305b4c97');\n",
              "        const dataTable =\n",
              "          await google.colab.kernel.invokeFunction('convertToInteractive',\n",
              "                                                    [key], {});\n",
              "        if (!dataTable) return;\n",
              "\n",
              "        const docLinkHtml = 'Like what you see? Visit the ' +\n",
              "          '<a target=\"_blank\" href=https://colab.research.google.com/notebooks/data_table.ipynb>data table notebook</a>'\n",
              "          + ' to learn more about interactive tables.';\n",
              "        element.innerHTML = '';\n",
              "        dataTable['output_type'] = 'display_data';\n",
              "        await google.colab.output.renderOutput(dataTable, element);\n",
              "        const docLink = document.createElement('div');\n",
              "        docLink.innerHTML = docLinkHtml;\n",
              "        element.appendChild(docLink);\n",
              "      }\n",
              "    </script>\n",
              "  </div>\n",
              "\n",
              "\n",
              "<div id=\"df-2b957246-39c4-457e-a785-3b9f73190f64\">\n",
              "  <button class=\"colab-df-quickchart\" onclick=\"quickchart('df-2b957246-39c4-457e-a785-3b9f73190f64')\"\n",
              "            title=\"Suggest charts\"\n",
              "            style=\"display:none;\">\n",
              "\n",
              "<svg xmlns=\"http://www.w3.org/2000/svg\" height=\"24px\"viewBox=\"0 0 24 24\"\n",
              "     width=\"24px\">\n",
              "    <g>\n",
              "        <path d=\"M19 3H5c-1.1 0-2 .9-2 2v14c0 1.1.9 2 2 2h14c1.1 0 2-.9 2-2V5c0-1.1-.9-2-2-2zM9 17H7v-7h2v7zm4 0h-2V7h2v10zm4 0h-2v-4h2v4z\"/>\n",
              "    </g>\n",
              "</svg>\n",
              "  </button>\n",
              "\n",
              "<style>\n",
              "  .colab-df-quickchart {\n",
              "      --bg-color: #E8F0FE;\n",
              "      --fill-color: #1967D2;\n",
              "      --hover-bg-color: #E2EBFA;\n",
              "      --hover-fill-color: #174EA6;\n",
              "      --disabled-fill-color: #AAA;\n",
              "      --disabled-bg-color: #DDD;\n",
              "  }\n",
              "\n",
              "  [theme=dark] .colab-df-quickchart {\n",
              "      --bg-color: #3B4455;\n",
              "      --fill-color: #D2E3FC;\n",
              "      --hover-bg-color: #434B5C;\n",
              "      --hover-fill-color: #FFFFFF;\n",
              "      --disabled-bg-color: #3B4455;\n",
              "      --disabled-fill-color: #666;\n",
              "  }\n",
              "\n",
              "  .colab-df-quickchart {\n",
              "    background-color: var(--bg-color);\n",
              "    border: none;\n",
              "    border-radius: 50%;\n",
              "    cursor: pointer;\n",
              "    display: none;\n",
              "    fill: var(--fill-color);\n",
              "    height: 32px;\n",
              "    padding: 0;\n",
              "    width: 32px;\n",
              "  }\n",
              "\n",
              "  .colab-df-quickchart:hover {\n",
              "    background-color: var(--hover-bg-color);\n",
              "    box-shadow: 0 1px 2px rgba(60, 64, 67, 0.3), 0 1px 3px 1px rgba(60, 64, 67, 0.15);\n",
              "    fill: var(--button-hover-fill-color);\n",
              "  }\n",
              "\n",
              "  .colab-df-quickchart-complete:disabled,\n",
              "  .colab-df-quickchart-complete:disabled:hover {\n",
              "    background-color: var(--disabled-bg-color);\n",
              "    fill: var(--disabled-fill-color);\n",
              "    box-shadow: none;\n",
              "  }\n",
              "\n",
              "  .colab-df-spinner {\n",
              "    border: 2px solid var(--fill-color);\n",
              "    border-color: transparent;\n",
              "    border-bottom-color: var(--fill-color);\n",
              "    animation:\n",
              "      spin 1s steps(1) infinite;\n",
              "  }\n",
              "\n",
              "  @keyframes spin {\n",
              "    0% {\n",
              "      border-color: transparent;\n",
              "      border-bottom-color: var(--fill-color);\n",
              "      border-left-color: var(--fill-color);\n",
              "    }\n",
              "    20% {\n",
              "      border-color: transparent;\n",
              "      border-left-color: var(--fill-color);\n",
              "      border-top-color: var(--fill-color);\n",
              "    }\n",
              "    30% {\n",
              "      border-color: transparent;\n",
              "      border-left-color: var(--fill-color);\n",
              "      border-top-color: var(--fill-color);\n",
              "      border-right-color: var(--fill-color);\n",
              "    }\n",
              "    40% {\n",
              "      border-color: transparent;\n",
              "      border-right-color: var(--fill-color);\n",
              "      border-top-color: var(--fill-color);\n",
              "    }\n",
              "    60% {\n",
              "      border-color: transparent;\n",
              "      border-right-color: var(--fill-color);\n",
              "    }\n",
              "    80% {\n",
              "      border-color: transparent;\n",
              "      border-right-color: var(--fill-color);\n",
              "      border-bottom-color: var(--fill-color);\n",
              "    }\n",
              "    90% {\n",
              "      border-color: transparent;\n",
              "      border-bottom-color: var(--fill-color);\n",
              "    }\n",
              "  }\n",
              "</style>\n",
              "\n",
              "  <script>\n",
              "    async function quickchart(key) {\n",
              "      const quickchartButtonEl =\n",
              "        document.querySelector('#' + key + ' button');\n",
              "      quickchartButtonEl.disabled = true;  // To prevent multiple clicks.\n",
              "      quickchartButtonEl.classList.add('colab-df-spinner');\n",
              "      try {\n",
              "        const charts = await google.colab.kernel.invokeFunction(\n",
              "            'suggestCharts', [key], {});\n",
              "      } catch (error) {\n",
              "        console.error('Error during call to suggestCharts:', error);\n",
              "      }\n",
              "      quickchartButtonEl.classList.remove('colab-df-spinner');\n",
              "      quickchartButtonEl.classList.add('colab-df-quickchart-complete');\n",
              "    }\n",
              "    (() => {\n",
              "      let quickchartButtonEl =\n",
              "        document.querySelector('#df-2b957246-39c4-457e-a785-3b9f73190f64 button');\n",
              "      quickchartButtonEl.style.display =\n",
              "        google.colab.kernel.accessAllowed ? 'block' : 'none';\n",
              "    })();\n",
              "  </script>\n",
              "</div>\n",
              "\n",
              "    </div>\n",
              "  </div>\n"
            ],
            "application/vnd.google.colaboratory.intrinsic+json": {
              "type": "dataframe",
              "variable_name": "StockPrices",
              "summary": "{\n  \"name\": \"StockPrices\",\n  \"rows\": 2746,\n  \"fields\": [\n    {\n      \"column\": \"time\",\n      \"properties\": {\n        \"dtype\": \"date\",\n        \"min\": \"2014-01-02 00:00:00\",\n        \"max\": \"2024-12-31 00:00:00\",\n        \"num_unique_values\": 2746,\n        \"samples\": [\n          \"2019-01-28 00:00:00\",\n          \"2023-06-20 00:00:00\",\n          \"2021-02-22 00:00:00\"\n        ],\n        \"semantic_type\": \"\",\n        \"description\": \"\"\n      }\n    },\n    {\n      \"column\": \"open\",\n      \"properties\": {\n        \"dtype\": \"number\",\n        \"std\": 9.875982343131767,\n        \"min\": 2.72,\n        \"max\": 39.9,\n        \"num_unique_values\": 1173,\n        \"samples\": [\n          10.39,\n          6.31,\n          24.73\n        ],\n        \"semantic_type\": \"\",\n        \"description\": \"\"\n      }\n    },\n    {\n      \"column\": \"high\",\n      \"properties\": {\n        \"dtype\": \"number\",\n        \"std\": 9.993019179399719,\n        \"min\": 2.74,\n        \"max\": 40.18,\n        \"num_unique_values\": 1216,\n        \"samples\": [\n          11.12,\n          7.01,\n          3.68\n        ],\n        \"semantic_type\": \"\",\n        \"description\": \"\"\n      }\n    },\n    {\n      \"column\": \"low\",\n      \"properties\": {\n        \"dtype\": \"number\",\n        \"std\": 9.746687184542651,\n        \"min\": 2.7,\n        \"max\": 39.56,\n        \"num_unique_values\": 1214,\n        \"samples\": [\n          22.84,\n          37.36,\n          3.47\n        ],\n        \"semantic_type\": \"\",\n        \"description\": \"\"\n      }\n    },\n    {\n      \"column\": \"close\",\n      \"properties\": {\n        \"dtype\": \"number\",\n        \"std\": 9.855344947296217,\n        \"min\": 2.71,\n        \"max\": 39.9,\n        \"num_unique_values\": 1225,\n        \"samples\": [\n          9.83,\n          19.9,\n          35.16\n        ],\n        \"semantic_type\": \"\",\n        \"description\": \"\"\n      }\n    },\n    {\n      \"column\": \"volume\",\n      \"properties\": {\n        \"dtype\": \"number\",\n        \"std\": 12295644,\n        \"min\": 0,\n        \"max\": 99679984,\n        \"num_unique_values\": 2742,\n        \"samples\": [\n          3030110,\n          7456030,\n          4500050\n        ],\n        \"semantic_type\": \"\",\n        \"description\": \"\"\n      }\n    }\n  ]\n}"
            }
          },
          "metadata": {},
          "execution_count": 6
        }
      ]
    },
    {
      "cell_type": "code",
      "source": [
        "# We are using Discrete returns here (Pt2 - Pt1)/Pt1\n",
        "StockPrices[\"Returns\"] = StockPrices[\"close\"].pct_change()\n",
        "StockPrices.head()"
      ],
      "metadata": {
        "colab": {
          "base_uri": "https://localhost:8080/",
          "height": 237
        },
        "id": "7vbLb1WTrFTr",
        "outputId": "03569ade-7205-429a-f083-e1faa9ab1470"
      },
      "execution_count": 7,
      "outputs": [
        {
          "output_type": "execute_result",
          "data": {
            "text/plain": [
              "            open  high   low  close  volume   Returns\n",
              "time                                                 \n",
              "2014-01-02  2.74  2.74  2.70   2.71  276250       NaN\n",
              "2014-01-03  2.72  2.74  2.70   2.74  476880  0.011070\n",
              "2014-01-06  2.77  2.80  2.74   2.79  452830  0.018248\n",
              "2014-01-07  2.80  2.82  2.78   2.78  282230 -0.003584\n",
              "2014-01-08  2.77  2.81  2.77   2.80  357660  0.007194"
            ],
            "text/html": [
              "\n",
              "  <div id=\"df-082c8e88-fb5e-4c18-9f71-c88ca02c0aef\" class=\"colab-df-container\">\n",
              "    <div>\n",
              "<style scoped>\n",
              "    .dataframe tbody tr th:only-of-type {\n",
              "        vertical-align: middle;\n",
              "    }\n",
              "\n",
              "    .dataframe tbody tr th {\n",
              "        vertical-align: top;\n",
              "    }\n",
              "\n",
              "    .dataframe thead th {\n",
              "        text-align: right;\n",
              "    }\n",
              "</style>\n",
              "<table border=\"1\" class=\"dataframe\">\n",
              "  <thead>\n",
              "    <tr style=\"text-align: right;\">\n",
              "      <th></th>\n",
              "      <th>open</th>\n",
              "      <th>high</th>\n",
              "      <th>low</th>\n",
              "      <th>close</th>\n",
              "      <th>volume</th>\n",
              "      <th>Returns</th>\n",
              "    </tr>\n",
              "    <tr>\n",
              "      <th>time</th>\n",
              "      <th></th>\n",
              "      <th></th>\n",
              "      <th></th>\n",
              "      <th></th>\n",
              "      <th></th>\n",
              "      <th></th>\n",
              "    </tr>\n",
              "  </thead>\n",
              "  <tbody>\n",
              "    <tr>\n",
              "      <th>2014-01-02</th>\n",
              "      <td>2.74</td>\n",
              "      <td>2.74</td>\n",
              "      <td>2.70</td>\n",
              "      <td>2.71</td>\n",
              "      <td>276250</td>\n",
              "      <td>NaN</td>\n",
              "    </tr>\n",
              "    <tr>\n",
              "      <th>2014-01-03</th>\n",
              "      <td>2.72</td>\n",
              "      <td>2.74</td>\n",
              "      <td>2.70</td>\n",
              "      <td>2.74</td>\n",
              "      <td>476880</td>\n",
              "      <td>0.011070</td>\n",
              "    </tr>\n",
              "    <tr>\n",
              "      <th>2014-01-06</th>\n",
              "      <td>2.77</td>\n",
              "      <td>2.80</td>\n",
              "      <td>2.74</td>\n",
              "      <td>2.79</td>\n",
              "      <td>452830</td>\n",
              "      <td>0.018248</td>\n",
              "    </tr>\n",
              "    <tr>\n",
              "      <th>2014-01-07</th>\n",
              "      <td>2.80</td>\n",
              "      <td>2.82</td>\n",
              "      <td>2.78</td>\n",
              "      <td>2.78</td>\n",
              "      <td>282230</td>\n",
              "      <td>-0.003584</td>\n",
              "    </tr>\n",
              "    <tr>\n",
              "      <th>2014-01-08</th>\n",
              "      <td>2.77</td>\n",
              "      <td>2.81</td>\n",
              "      <td>2.77</td>\n",
              "      <td>2.80</td>\n",
              "      <td>357660</td>\n",
              "      <td>0.007194</td>\n",
              "    </tr>\n",
              "  </tbody>\n",
              "</table>\n",
              "</div>\n",
              "    <div class=\"colab-df-buttons\">\n",
              "\n",
              "  <div class=\"colab-df-container\">\n",
              "    <button class=\"colab-df-convert\" onclick=\"convertToInteractive('df-082c8e88-fb5e-4c18-9f71-c88ca02c0aef')\"\n",
              "            title=\"Convert this dataframe to an interactive table.\"\n",
              "            style=\"display:none;\">\n",
              "\n",
              "  <svg xmlns=\"http://www.w3.org/2000/svg\" height=\"24px\" viewBox=\"0 -960 960 960\">\n",
              "    <path d=\"M120-120v-720h720v720H120Zm60-500h600v-160H180v160Zm220 220h160v-160H400v160Zm0 220h160v-160H400v160ZM180-400h160v-160H180v160Zm440 0h160v-160H620v160ZM180-180h160v-160H180v160Zm440 0h160v-160H620v160Z\"/>\n",
              "  </svg>\n",
              "    </button>\n",
              "\n",
              "  <style>\n",
              "    .colab-df-container {\n",
              "      display:flex;\n",
              "      gap: 12px;\n",
              "    }\n",
              "\n",
              "    .colab-df-convert {\n",
              "      background-color: #E8F0FE;\n",
              "      border: none;\n",
              "      border-radius: 50%;\n",
              "      cursor: pointer;\n",
              "      display: none;\n",
              "      fill: #1967D2;\n",
              "      height: 32px;\n",
              "      padding: 0 0 0 0;\n",
              "      width: 32px;\n",
              "    }\n",
              "\n",
              "    .colab-df-convert:hover {\n",
              "      background-color: #E2EBFA;\n",
              "      box-shadow: 0px 1px 2px rgba(60, 64, 67, 0.3), 0px 1px 3px 1px rgba(60, 64, 67, 0.15);\n",
              "      fill: #174EA6;\n",
              "    }\n",
              "\n",
              "    .colab-df-buttons div {\n",
              "      margin-bottom: 4px;\n",
              "    }\n",
              "\n",
              "    [theme=dark] .colab-df-convert {\n",
              "      background-color: #3B4455;\n",
              "      fill: #D2E3FC;\n",
              "    }\n",
              "\n",
              "    [theme=dark] .colab-df-convert:hover {\n",
              "      background-color: #434B5C;\n",
              "      box-shadow: 0px 1px 3px 1px rgba(0, 0, 0, 0.15);\n",
              "      filter: drop-shadow(0px 1px 2px rgba(0, 0, 0, 0.3));\n",
              "      fill: #FFFFFF;\n",
              "    }\n",
              "  </style>\n",
              "\n",
              "    <script>\n",
              "      const buttonEl =\n",
              "        document.querySelector('#df-082c8e88-fb5e-4c18-9f71-c88ca02c0aef button.colab-df-convert');\n",
              "      buttonEl.style.display =\n",
              "        google.colab.kernel.accessAllowed ? 'block' : 'none';\n",
              "\n",
              "      async function convertToInteractive(key) {\n",
              "        const element = document.querySelector('#df-082c8e88-fb5e-4c18-9f71-c88ca02c0aef');\n",
              "        const dataTable =\n",
              "          await google.colab.kernel.invokeFunction('convertToInteractive',\n",
              "                                                    [key], {});\n",
              "        if (!dataTable) return;\n",
              "\n",
              "        const docLinkHtml = 'Like what you see? Visit the ' +\n",
              "          '<a target=\"_blank\" href=https://colab.research.google.com/notebooks/data_table.ipynb>data table notebook</a>'\n",
              "          + ' to learn more about interactive tables.';\n",
              "        element.innerHTML = '';\n",
              "        dataTable['output_type'] = 'display_data';\n",
              "        await google.colab.output.renderOutput(dataTable, element);\n",
              "        const docLink = document.createElement('div');\n",
              "        docLink.innerHTML = docLinkHtml;\n",
              "        element.appendChild(docLink);\n",
              "      }\n",
              "    </script>\n",
              "  </div>\n",
              "\n",
              "\n",
              "<div id=\"df-3ed06a01-904c-4c6b-918e-939c608b8f22\">\n",
              "  <button class=\"colab-df-quickchart\" onclick=\"quickchart('df-3ed06a01-904c-4c6b-918e-939c608b8f22')\"\n",
              "            title=\"Suggest charts\"\n",
              "            style=\"display:none;\">\n",
              "\n",
              "<svg xmlns=\"http://www.w3.org/2000/svg\" height=\"24px\"viewBox=\"0 0 24 24\"\n",
              "     width=\"24px\">\n",
              "    <g>\n",
              "        <path d=\"M19 3H5c-1.1 0-2 .9-2 2v14c0 1.1.9 2 2 2h14c1.1 0 2-.9 2-2V5c0-1.1-.9-2-2-2zM9 17H7v-7h2v7zm4 0h-2V7h2v10zm4 0h-2v-4h2v4z\"/>\n",
              "    </g>\n",
              "</svg>\n",
              "  </button>\n",
              "\n",
              "<style>\n",
              "  .colab-df-quickchart {\n",
              "      --bg-color: #E8F0FE;\n",
              "      --fill-color: #1967D2;\n",
              "      --hover-bg-color: #E2EBFA;\n",
              "      --hover-fill-color: #174EA6;\n",
              "      --disabled-fill-color: #AAA;\n",
              "      --disabled-bg-color: #DDD;\n",
              "  }\n",
              "\n",
              "  [theme=dark] .colab-df-quickchart {\n",
              "      --bg-color: #3B4455;\n",
              "      --fill-color: #D2E3FC;\n",
              "      --hover-bg-color: #434B5C;\n",
              "      --hover-fill-color: #FFFFFF;\n",
              "      --disabled-bg-color: #3B4455;\n",
              "      --disabled-fill-color: #666;\n",
              "  }\n",
              "\n",
              "  .colab-df-quickchart {\n",
              "    background-color: var(--bg-color);\n",
              "    border: none;\n",
              "    border-radius: 50%;\n",
              "    cursor: pointer;\n",
              "    display: none;\n",
              "    fill: var(--fill-color);\n",
              "    height: 32px;\n",
              "    padding: 0;\n",
              "    width: 32px;\n",
              "  }\n",
              "\n",
              "  .colab-df-quickchart:hover {\n",
              "    background-color: var(--hover-bg-color);\n",
              "    box-shadow: 0 1px 2px rgba(60, 64, 67, 0.3), 0 1px 3px 1px rgba(60, 64, 67, 0.15);\n",
              "    fill: var(--button-hover-fill-color);\n",
              "  }\n",
              "\n",
              "  .colab-df-quickchart-complete:disabled,\n",
              "  .colab-df-quickchart-complete:disabled:hover {\n",
              "    background-color: var(--disabled-bg-color);\n",
              "    fill: var(--disabled-fill-color);\n",
              "    box-shadow: none;\n",
              "  }\n",
              "\n",
              "  .colab-df-spinner {\n",
              "    border: 2px solid var(--fill-color);\n",
              "    border-color: transparent;\n",
              "    border-bottom-color: var(--fill-color);\n",
              "    animation:\n",
              "      spin 1s steps(1) infinite;\n",
              "  }\n",
              "\n",
              "  @keyframes spin {\n",
              "    0% {\n",
              "      border-color: transparent;\n",
              "      border-bottom-color: var(--fill-color);\n",
              "      border-left-color: var(--fill-color);\n",
              "    }\n",
              "    20% {\n",
              "      border-color: transparent;\n",
              "      border-left-color: var(--fill-color);\n",
              "      border-top-color: var(--fill-color);\n",
              "    }\n",
              "    30% {\n",
              "      border-color: transparent;\n",
              "      border-left-color: var(--fill-color);\n",
              "      border-top-color: var(--fill-color);\n",
              "      border-right-color: var(--fill-color);\n",
              "    }\n",
              "    40% {\n",
              "      border-color: transparent;\n",
              "      border-right-color: var(--fill-color);\n",
              "      border-top-color: var(--fill-color);\n",
              "    }\n",
              "    60% {\n",
              "      border-color: transparent;\n",
              "      border-right-color: var(--fill-color);\n",
              "    }\n",
              "    80% {\n",
              "      border-color: transparent;\n",
              "      border-right-color: var(--fill-color);\n",
              "      border-bottom-color: var(--fill-color);\n",
              "    }\n",
              "    90% {\n",
              "      border-color: transparent;\n",
              "      border-bottom-color: var(--fill-color);\n",
              "    }\n",
              "  }\n",
              "</style>\n",
              "\n",
              "  <script>\n",
              "    async function quickchart(key) {\n",
              "      const quickchartButtonEl =\n",
              "        document.querySelector('#' + key + ' button');\n",
              "      quickchartButtonEl.disabled = true;  // To prevent multiple clicks.\n",
              "      quickchartButtonEl.classList.add('colab-df-spinner');\n",
              "      try {\n",
              "        const charts = await google.colab.kernel.invokeFunction(\n",
              "            'suggestCharts', [key], {});\n",
              "      } catch (error) {\n",
              "        console.error('Error during call to suggestCharts:', error);\n",
              "      }\n",
              "      quickchartButtonEl.classList.remove('colab-df-spinner');\n",
              "      quickchartButtonEl.classList.add('colab-df-quickchart-complete');\n",
              "    }\n",
              "    (() => {\n",
              "      let quickchartButtonEl =\n",
              "        document.querySelector('#df-3ed06a01-904c-4c6b-918e-939c608b8f22 button');\n",
              "      quickchartButtonEl.style.display =\n",
              "        google.colab.kernel.accessAllowed ? 'block' : 'none';\n",
              "    })();\n",
              "  </script>\n",
              "</div>\n",
              "\n",
              "    </div>\n",
              "  </div>\n"
            ],
            "application/vnd.google.colaboratory.intrinsic+json": {
              "type": "dataframe",
              "variable_name": "StockPrices",
              "summary": "{\n  \"name\": \"StockPrices\",\n  \"rows\": 2746,\n  \"fields\": [\n    {\n      \"column\": \"time\",\n      \"properties\": {\n        \"dtype\": \"date\",\n        \"min\": \"2014-01-02 00:00:00\",\n        \"max\": \"2024-12-31 00:00:00\",\n        \"num_unique_values\": 2746,\n        \"samples\": [\n          \"2019-01-28 00:00:00\",\n          \"2023-06-20 00:00:00\",\n          \"2021-02-22 00:00:00\"\n        ],\n        \"semantic_type\": \"\",\n        \"description\": \"\"\n      }\n    },\n    {\n      \"column\": \"open\",\n      \"properties\": {\n        \"dtype\": \"number\",\n        \"std\": 9.875982343131767,\n        \"min\": 2.72,\n        \"max\": 39.9,\n        \"num_unique_values\": 1173,\n        \"samples\": [\n          10.39,\n          6.31,\n          24.73\n        ],\n        \"semantic_type\": \"\",\n        \"description\": \"\"\n      }\n    },\n    {\n      \"column\": \"high\",\n      \"properties\": {\n        \"dtype\": \"number\",\n        \"std\": 9.993019179399719,\n        \"min\": 2.74,\n        \"max\": 40.18,\n        \"num_unique_values\": 1216,\n        \"samples\": [\n          11.12,\n          7.01,\n          3.68\n        ],\n        \"semantic_type\": \"\",\n        \"description\": \"\"\n      }\n    },\n    {\n      \"column\": \"low\",\n      \"properties\": {\n        \"dtype\": \"number\",\n        \"std\": 9.746687184542651,\n        \"min\": 2.7,\n        \"max\": 39.56,\n        \"num_unique_values\": 1214,\n        \"samples\": [\n          22.84,\n          37.36,\n          3.47\n        ],\n        \"semantic_type\": \"\",\n        \"description\": \"\"\n      }\n    },\n    {\n      \"column\": \"close\",\n      \"properties\": {\n        \"dtype\": \"number\",\n        \"std\": 9.855344947296217,\n        \"min\": 2.71,\n        \"max\": 39.9,\n        \"num_unique_values\": 1225,\n        \"samples\": [\n          9.83,\n          19.9,\n          35.16\n        ],\n        \"semantic_type\": \"\",\n        \"description\": \"\"\n      }\n    },\n    {\n      \"column\": \"volume\",\n      \"properties\": {\n        \"dtype\": \"number\",\n        \"std\": 12295644,\n        \"min\": 0,\n        \"max\": 99679984,\n        \"num_unique_values\": 2742,\n        \"samples\": [\n          3030110,\n          7456030,\n          4500050\n        ],\n        \"semantic_type\": \"\",\n        \"description\": \"\"\n      }\n    },\n    {\n      \"column\": \"Returns\",\n      \"properties\": {\n        \"dtype\": \"number\",\n        \"std\": 0.020951078028665027,\n        \"min\": -0.07046070460704601,\n        \"max\": 0.07187499999999991,\n        \"num_unique_values\": 2346,\n        \"samples\": [\n          0.001941747572815622,\n          -0.008333333333333415,\n          -0.009000000000000008\n        ],\n        \"semantic_type\": \"\",\n        \"description\": \"\"\n      }\n    }\n  ]\n}"
            }
          },
          "metadata": {},
          "execution_count": 7
        }
      ]
    },
    {
      "cell_type": "code",
      "source": [
        "import matplotlib.pyplot as plt\n",
        "\n",
        "# Plot returns over time\n",
        "StockPrices['Returns'].plot()\n",
        "plt.show()"
      ],
      "metadata": {
        "colab": {
          "base_uri": "https://localhost:8080/",
          "height": 422
        },
        "id": "MjjkC3IgrYCa",
        "outputId": "aa6f8a5b-b8cc-49b9-b84c-9dedf5eeeaa0"
      },
      "execution_count": 8,
      "outputs": [
        {
          "output_type": "display_data",
          "data": {
            "text/plain": [
              "<Figure size 640x480 with 1 Axes>"
            ],
            "image/png": "[encoded data removed]"
          },
          "metadata": {}
        }
      ]
    },
    {
      "cell_type": "markdown",
      "source": [
        "Urgh, so much noise"
      ],
      "metadata": {
        "id": "xZp0R9Uur4G_"
      }
    },
    {
      "cell_type": "code",
      "source": [
        "# Return distribution\n",
        "returns_percentage = StockPrices[\"Returns\"] * 100  # Convert decimal into percentage\n",
        "plt.hist(returns_percentage.dropna(), # There is 1 NaN\n",
        "         bins=75,\n",
        "         density=False)\n",
        "plt.show()"
      ],
      "metadata": {
        "colab": {
          "base_uri": "https://localhost:8080/",
          "height": 430
        },
        "id": "2RXkhBElr6bT",
        "outputId": "711341f1-60d3-47c5-9b8e-c60e6aca181e"
      },
      "execution_count": 9,
      "outputs": [
        {
          "output_type": "display_data",
          "data": {
            "text/plain": [
              "<Figure size 640x480 with 1 Axes>"
            ],
            "image/png": "[encoded data removed]"
          },
          "metadata": {}
        }
      ]
    },
    {
      "cell_type": "markdown",
      "source": [
        "Mean"
      ],
      "metadata": {
        "id": "Jx17ZTJoti2r"
      }
    },
    {
      "cell_type": "code",
      "source": [
        "import numpy as np\n",
        "daily_return = np.mean(StockPrices[\"Returns\"])\n",
        "print(daily_return)\n",
        "annualized_return = ((1+np.mean(StockPrices[\"Returns\"]))**252)-1  # Annualized mean returns\n",
        "print(annualized_return)"
      ],
      "metadata": {
        "colab": {
          "base_uri": "https://localhost:8080/"
        },
        "id": "CH57wsSwtbVm",
        "outputId": "4137af03-bdf4-4a6c-edfc-0b56082fc05d"
      },
      "execution_count": 10,
      "outputs": [
        {
          "output_type": "stream",
          "name": "stdout",
          "text": [
            "0.0010521438247562281\n",
            "0.30343209511795743\n"
          ]
        }
      ]
    },
    {
      "cell_type": "markdown",
      "source": [
        "standard deviation and variance of returns"
      ],
      "metadata": {
        "id": "VydlAKXfuBcU"
      }
    },
    {
      "cell_type": "code",
      "source": [
        "import numpy as np\n",
        "std = np.std(StockPrices[\"Returns\"])        # calc std\n",
        "var = std**2                                # variance is std^2\n",
        "\n",
        "# Annualized\n",
        "std_annualized = std*np.sqrt(252)\n",
        "var_annualized = std_annualized**2\n",
        "\n",
        "print('std :', std)\n",
        "print('var :', var)\n",
        "print('std_annualized :', std_annualized)\n",
        "print('var_annualized :', var_annualized)"
      ],
      "metadata": {
        "colab": {
          "base_uri": "https://localhost:8080/"
        },
        "id": "0TfB9rBvuFFe",
        "outputId": "05bfc585-ee49-4290-9785-53c22aaeb443"
      },
      "execution_count": 11,
      "outputs": [
        {
          "output_type": "stream",
          "name": "stdout",
          "text": [
            "std : 0.02094726145553405\n",
            "var : 0.0004387877624865025\n",
            "std_annualized : 0.3325274667551519\n",
            "var_annualized : 0.11057451614659863\n"
          ]
        }
      ]
    },
    {
      "cell_type": "markdown",
      "source": [
        "skewness"
      ],
      "metadata": {
        "id": "1PxMl43iuQhT"
      }
    },
    {
      "cell_type": "code",
      "source": [
        "from scipy.stats import skew\n",
        "skew(StockPrices[\"Returns\"].dropna())"
      ],
      "metadata": {
        "colab": {
          "base_uri": "https://localhost:8080/"
        },
        "id": "L0_upSz9uRmz",
        "outputId": "083388e1-7a69-4a39-d84b-4b4384e23cce"
      },
      "execution_count": 12,
      "outputs": [
        {
          "output_type": "execute_result",
          "data": {
            "text/plain": [
              "np.float64(0.09549300616540504)"
            ]
          },
          "metadata": {},
          "execution_count": 12
        }
      ]
    },
    {
      "cell_type": "markdown",
      "source": [
        "Kurtosis"
      ],
      "metadata": {
        "id": "lB5LyjZHucIA"
      }
    },
    {
      "cell_type": "code",
      "source": [
        "from scipy.stats import kurtosis\n",
        "kurtosis(StockPrices[\"Returns\"].dropna())  # THIS IS EXCESS KURTOSIS"
      ],
      "metadata": {
        "colab": {
          "base_uri": "https://localhost:8080/"
        },
        "id": "-G62h5kmudlo",
        "outputId": "5a8d3f53-8b12-4034-bc30-1baf6756abc0"
      },
      "execution_count": 13,
      "outputs": [
        {
          "output_type": "execute_result",
          "data": {
            "text/plain": [
              "np.float64(1.5980725321399918)"
            ]
          },
          "metadata": {},
          "execution_count": 13
        }
      ]
    },
    {
      "cell_type": "markdown",
      "source": [
        "Testing for normality"
      ],
      "metadata": {
        "id": "NqdBUbvguvsM"
      }
    },
    {
      "cell_type": "code",
      "source": [
        "from scipy import stats\n",
        "p_value = stats.shapiro(StockPrices[\"Returns\"].dropna())[1]\n",
        "if p_value <= 0.05:\n",
        "\tprint(\"Null hypothesis rejected\")\n",
        "else:\n",
        "\tprint(\"Null hypothesis accepted\")"
      ],
      "metadata": {
        "colab": {
          "base_uri": "https://localhost:8080/"
        },
        "id": "EaTATJxBux5X",
        "outputId": "7ede4858-700d-4fc1-b1c5-a3a038afa03f"
      },
      "execution_count": 14,
      "outputs": [
        {
          "output_type": "stream",
          "name": "stdout",
          "text": [
            "Null hypothesis rejected\n"
          ]
        }
      ]
    }
  ]
}