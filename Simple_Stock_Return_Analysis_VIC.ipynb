{
  "nbformat": 4,
  "nbformat_minor": 0,
  "metadata": {
    "colab": {
      "provenance": [],
      "authorship_tag": "ABX9TyNQaVuZWEC9Fy2kzvWcrp0Q",
      "include_colab_link": true
    },
    "kernelspec": {
      "name": "python3",
      "display_name": "Python 3"
    },
    "language_info": {
      "name": "python"
    }
  },
  "cells": [
    {
      "cell_type": "markdown",
      "metadata": {
        "id": "view-in-github",
        "colab_type": "text"
      },
      "source": [
        "<a href=\"https://colab.research.google.com/github/NoobBeginnerReal/Simple-Stock-Return-Analysis/blob/main/Simple_Stock_Return_Analysis_VIC.ipynb\" target=\"_parent\"><img src=\"https://colab.research.google.com/assets/colab-badge.svg\" alt=\"Open In Colab\"/></a>"
      ]
    },
    {
      "cell_type": "markdown",
      "source": [
        "# STEP 1. SETTING UP"
      ],
      "metadata": {
        "id": "3bgcOZCWp3vB"
      }
    },
    {
      "cell_type": "code",
      "execution_count": 1,
      "metadata": {
        "colab": {
          "base_uri": "https://localhost:8080/"
        },
        "id": "PfbaZlXcpMvL",
        "outputId": "d2b323ab-ea31-430c-c684-129907d1c470"
      },
      "outputs": [
        {
          "output_type": "stream",
          "name": "stdout",
          "text": [
            "Collecting vnstock\n",
            "  Downloading vnstock-3.1.0.2-py3-none-any.whl.metadata (17 kB)\n",
            "Requirement already satisfied: requests in /usr/local/lib/python3.11/dist-packages (from vnstock) (2.32.3)\n",
            "Requirement already satisfied: beautifulsoup4 in /usr/local/lib/python3.11/dist-packages (from vnstock) (4.13.3)\n",
            "Requirement already satisfied: pandas in /usr/local/lib/python3.11/dist-packages (from vnstock) (2.2.2)\n",
            "Collecting vnai>=0.1.3 (from vnstock)\n",
            "  Downloading vnai-2.0-py3-none-any.whl.metadata (947 bytes)\n",
            "Requirement already satisfied: openpyxl in /usr/local/lib/python3.11/dist-packages (from vnstock) (3.1.5)\n",
            "Requirement already satisfied: pydantic in /usr/local/lib/python3.11/dist-packages (from vnstock) (2.10.6)\n",
            "Requirement already satisfied: psutil in /usr/local/lib/python3.11/dist-packages (from vnstock) (5.9.5)\n",
            "Collecting fake_useragent (from vnstock)\n",
            "  Downloading fake_useragent-2.1.0-py3-none-any.whl.metadata (17 kB)\n",
            "Collecting vnstock_ezchart (from vnstock)\n",
            "  Downloading vnstock_ezchart-0.0.2-py3-none-any.whl.metadata (6.6 kB)\n",
            "Requirement already satisfied: click in /usr/local/lib/python3.11/dist-packages (from vnstock) (8.1.8)\n",
            "Requirement already satisfied: seaborn in /usr/local/lib/python3.11/dist-packages (from vnstock) (0.13.2)\n",
            "Requirement already satisfied: cryptography>=3.4.0 in /usr/local/lib/python3.11/dist-packages (from vnai>=0.1.3->vnstock) (43.0.3)\n",
            "Requirement already satisfied: charset-normalizer<4,>=2 in /usr/local/lib/python3.11/dist-packages (from requests->vnstock) (3.4.1)\n",
            "Requirement already satisfied: idna<4,>=2.5 in /usr/local/lib/python3.11/dist-packages (from requests->vnstock) (3.10)\n",
            "Requirement already satisfied: urllib3<3,>=1.21.1 in /usr/local/lib/python3.11/dist-packages (from requests->vnstock) (2.3.0)\n",
            "Requirement already satisfied: certifi>=2017.4.17 in /usr/local/lib/python3.11/dist-packages (from requests->vnstock) (2025.1.31)\n",
            "Requirement already satisfied: soupsieve>1.2 in /usr/local/lib/python3.11/dist-packages (from beautifulsoup4->vnstock) (2.6)\n",
            "Requirement already satisfied: typing-extensions>=4.0.0 in /usr/local/lib/python3.11/dist-packages (from beautifulsoup4->vnstock) (4.12.2)\n",
            "Requirement already satisfied: et-xmlfile in /usr/local/lib/python3.11/dist-packages (from openpyxl->vnstock) (2.0.0)\n",
            "Requirement already satisfied: numpy>=1.23.2 in /usr/local/lib/python3.11/dist-packages (from pandas->vnstock) (2.0.2)\n",
            "Requirement already satisfied: python-dateutil>=2.8.2 in /usr/local/lib/python3.11/dist-packages (from pandas->vnstock) (2.8.2)\n",
            "Requirement already satisfied: pytz>=2020.1 in /usr/local/lib/python3.11/dist-packages (from pandas->vnstock) (2025.1)\n",
            "Requirement already satisfied: tzdata>=2022.7 in /usr/local/lib/python3.11/dist-packages (from pandas->vnstock) (2025.1)\n",
            "Requirement already satisfied: annotated-types>=0.6.0 in /usr/local/lib/python3.11/dist-packages (from pydantic->vnstock) (0.7.0)\n",
            "Requirement already satisfied: pydantic-core==2.27.2 in /usr/local/lib/python3.11/dist-packages (from pydantic->vnstock) (2.27.2)\n",
            "Requirement already satisfied: matplotlib!=3.6.1,>=3.4 in /usr/local/lib/python3.11/dist-packages (from seaborn->vnstock) (3.10.0)\n",
            "Collecting squarify (from vnstock_ezchart->vnstock)\n",
            "  Downloading squarify-0.4.4-py3-none-any.whl.metadata (600 bytes)\n",
            "Requirement already satisfied: wordcloud in /usr/local/lib/python3.11/dist-packages (from vnstock_ezchart->vnstock) (1.9.4)\n",
            "Requirement already satisfied: cffi>=1.12 in /usr/local/lib/python3.11/dist-packages (from cryptography>=3.4.0->vnai>=0.1.3->vnstock) (1.17.1)\n",
            "Requirement already satisfied: contourpy>=1.0.1 in /usr/local/lib/python3.11/dist-packages (from matplotlib!=3.6.1,>=3.4->seaborn->vnstock) (1.3.1)\n",
            "Requirement already satisfied: cycler>=0.10 in /usr/local/lib/python3.11/dist-packages (from matplotlib!=3.6.1,>=3.4->seaborn->vnstock) (0.12.1)\n",
            "Requirement already satisfied: fonttools>=4.22.0 in /usr/local/lib/python3.11/dist-packages (from matplotlib!=3.6.1,>=3.4->seaborn->vnstock) (4.56.0)\n",
            "Requirement already satisfied: kiwisolver>=1.3.1 in /usr/local/lib/python3.11/dist-packages (from matplotlib!=3.6.1,>=3.4->seaborn->vnstock) (1.4.8)\n",
            "Requirement already satisfied: packaging>=20.0 in /usr/local/lib/python3.11/dist-packages (from matplotlib!=3.6.1,>=3.4->seaborn->vnstock) (24.2)\n",
            "Requirement already satisfied: pillow>=8 in /usr/local/lib/python3.11/dist-packages (from matplotlib!=3.6.1,>=3.4->seaborn->vnstock) (11.1.0)\n",
            "Requirement already satisfied: pyparsing>=2.3.1 in /usr/local/lib/python3.11/dist-packages (from matplotlib!=3.6.1,>=3.4->seaborn->vnstock) (3.2.1)\n",
            "Requirement already satisfied: six>=1.5 in /usr/local/lib/python3.11/dist-packages (from python-dateutil>=2.8.2->pandas->vnstock) (1.17.0)\n",
            "Requirement already satisfied: pycparser in /usr/local/lib/python3.11/dist-packages (from cffi>=1.12->cryptography>=3.4.0->vnai>=0.1.3->vnstock) (2.22)\n",
            "Downloading vnstock-3.1.0.2-py3-none-any.whl (90 kB)\n",
            "\u001b[2K   \u001b[90m━━━━━━━━━━━━━━━━━━━━━━━━━━━━━━━━━━━━━━━━\u001b[0m \u001b[32m90.6/90.6 kB\u001b[0m \u001b[31m2.9 MB/s\u001b[0m eta \u001b[36m0:00:00\u001b[0m\n",
            "\u001b[?25hDownloading vnai-2.0-py3-none-any.whl (19 kB)\n",
            "Downloading fake_useragent-2.1.0-py3-none-any.whl (125 kB)\n",
            "\u001b[2K   \u001b[90m━━━━━━━━━━━━━━━━━━━━━━━━━━━━━━━━━━━━━━━━\u001b[0m \u001b[32m125.8/125.8 kB\u001b[0m \u001b[31m7.1 MB/s\u001b[0m eta \u001b[36m0:00:00\u001b[0m\n",
            "\u001b[?25hDownloading vnstock_ezchart-0.0.2-py3-none-any.whl (14 kB)\n",
            "Downloading squarify-0.4.4-py3-none-any.whl (4.1 kB)\n",
            "Installing collected packages: squarify, fake_useragent, vnai, vnstock_ezchart, vnstock\n",
            "Successfully installed fake_useragent-2.1.0 squarify-0.4.4 vnai-2.0 vnstock-3.1.0.2 vnstock_ezchart-0.0.2\n"
          ]
        }
      ],
      "source": [
        "!pip install -U vnstock"
      ]
    },
    {
      "cell_type": "markdown",
      "source": [
        "# STEP 2 GETTING THE DATA"
      ],
      "metadata": {
        "id": "6qEDyG4XqBRG"
      }
    },
    {
      "cell_type": "code",
      "source": [
        "from vnstock import *\n",
        "import pandas as pd\n",
        "\n",
        "# Get VCB historical stock prices (default = daily)\n",
        "stock = Vnstock().stock(symbol='VIC', source='VCI')\n",
        "vic_data = stock.quote.history(start='2014-01-01', end='2024-12-31')\n",
        "\n",
        "#Save to a dataframe\n",
        "df = pd.DataFrame(vic_data)\n",
        "df.to_csv(\"VIC_stock_data.csv\", index=False, encoding='utf-8')\n",
        "\n",
        "print(\"VIC stock data saved\")"
      ],
      "metadata": {
        "colab": {
          "base_uri": "https://localhost:8080/",
          "height": 529
        },
        "id": "VxfsFPdQqE5x",
        "outputId": "22515ad8-40d9-4a67-c2df-39dc930cd4ab"
      },
      "execution_count": 2,
      "outputs": [
        {
          "output_type": "display_data",
          "data": {
            "text/plain": [
              "<IPython.core.display.HTML object>"
            ],
            "text/html": [
              "<!DOCTYPE html>\n",
              "<html>\n",
              "<head>\n",
              "    <meta charset=\"UTF-8\">\n",
              "    <meta name=\"viewport\" content=\"width=device-width, initial-scale=1.0\">\n",
              "    <link href=\"https://fonts.googleapis.com/css2?family=Lexend:wght@400;500;600;700&display=swap\" rel=\"stylesheet\">\n",
              "    <!-- Include FontAwesome -->\n",
              "    <link rel=\"stylesheet\" href=\"https://cdnjs.cloudflare.com/ajax/libs/font-awesome/6.0.0/css/all.min.css\">\n",
              "    <style>\n",
              "        .vnstock-ad-container {\n",
              "            font-family: 'Lexend', sans-serif;\n",
              "            display: flex;\n",
              "            max-width: 100%;\n",
              "            margin: 20px 0;\n",
              "            border-radius: 12px;\n",
              "            overflow: hidden;\n",
              "            box-shadow: 0 8px 20px rgba(0, 0, 0, 0.08);\n",
              "            background: #ffffff;\n",
              "        }\n",
              "        \n",
              "        .vnstock-ad-content {\n",
              "            flex: 1;\n",
              "            padding: 25px;\n",
              "            display: flex;\n",
              "            flex-direction: column;\n",
              "            justify-content: center;\n",
              "        }\n",
              "        \n",
              "        .vnstock-ad-image {\n",
              "            flex: 1;\n",
              "            min-width: 0;\n",
              "        }\n",
              "        \n",
              "        .vnstock-ad-image img {\n",
              "            width: 100%;\n",
              "            height: 100%;\n",
              "            object-fit: cover;\n",
              "            display: block;\n",
              "        }\n",
              "        \n",
              "        .vnstock-ad-title {\n",
              "            margin: 0 0 15px 0;\n",
              "            line-height: 1.3;\n",
              "        }\n",
              "        \n",
              "        .vnstock-ad-title-green {\n",
              "            color: #4CAF50;\n",
              "            font-size: 24px;\n",
              "            font-weight: 700;\n",
              "        }\n",
              "        \n",
              "        .vnstock-ad-title-purple {\n",
              "            color: #8C52FF;\n",
              "            font-size: 24px;\n",
              "            font-weight: 700;\n",
              "        }\n",
              "        \n",
              "        .vnstock-ad-features {\n",
              "            list-style-type: none;\n",
              "            padding-left: 0;\n",
              "            margin: 0 0 20px 0;\n",
              "        }\n",
              "        \n",
              "        .vnstock-ad-features li {\n",
              "            color: #333333;\n",
              "            margin-bottom: 8px;\n",
              "            padding-left: 22px;\n",
              "            position: relative;\n",
              "            font-size: 14px;\n",
              "            line-height: 1.5;\n",
              "        }\n",
              "        \n",
              "        .vnstock-ad-features li:before {\n",
              "            content: \"•\";\n",
              "            position: absolute;\n",
              "            left: 0;\n",
              "            color: #007BFF;\n",
              "            font-weight: bold;\n",
              "            font-size: 18px;\n",
              "        }\n",
              "        \n",
              "        .button-container {\n",
              "            text-align: center; /* Center the button */\n",
              "        }\n",
              "        \n",
              "        .vnstock-ad-button {\n",
              "            display: inline-block;\n",
              "            background-color: #4CAF50;\n",
              "            color: white;\n",
              "            border: none;\n",
              "            padding: 10px 24px;\n",
              "            text-align: center;\n",
              "            text-decoration: none;\n",
              "            font-size: 15px;\n",
              "            border-radius: 30px;\n",
              "            font-weight: 600;\n",
              "            transition: all 0.2s;\n",
              "            box-shadow: 0 4px 10px rgba(76, 175, 80, 0.2);\n",
              "            width: auto;\n",
              "            min-width: 120px;\n",
              "            max-width: 160px;\n",
              "        }\n",
              "        \n",
              "        .vnstock-ad-button:hover {\n",
              "            background-color: #8C52FF; /* Change to purple on hover */\n",
              "            color: white;\n",
              "            transform: translateY(-2px);\n",
              "            box-shadow: 0 6px 12px rgba(140, 82, 255, 0.3);\n",
              "        }\n",
              "\n",
              "        .vnstock-ad-features li {\n",
              "            color: #333333;\n",
              "            margin-bottom: 12px;\n",
              "            padding-left: 25px;\n",
              "            position: relative;\n",
              "            font-size: 15px;\n",
              "            line-height: 1.6;\n",
              "        }\n",
              "\n",
              "        .highlight {\n",
              "            color: #8C52FF;\n",
              "            font-weight: 600;\n",
              "        }\n",
              "\n",
              "        \n",
              "        @media (max-width: 768px) {\n",
              "            .vnstock-ad-container {\n",
              "                flex-direction: column;\n",
              "            }\n",
              "            \n",
              "            .vnstock-ad-content, .vnstock-ad-image {\n",
              "                flex: none;\n",
              "            }\n",
              "            \n",
              "            .vnstock-ad-image img {\n",
              "                height: 200px;\n",
              "            }\n",
              "        }\n",
              "    </style>\n",
              "</head>\n",
              "<body>\n",
              "    <div class=\"vnstock-ad-container\">\n",
              "        <!-- <div class=\"vnstock-ad-content\">\n",
              "            <h2 class=\"vnstock-ad-title\">\n",
              "                <span class=\"vnstock-ad-title-green\">Phân tích dữ liệu & tạo bot chứng khoán </span>\n",
              "                <span class=\"vnstock-ad-title-purple\">K10</span>\n",
              "            </h2>\n",
              "            <ul class=\"vnstock-ad-features\">\n",
              "                <li><span class=\"highlight\">🗓️ Khai giảng K10:</span> 23/3/2025 • 10 buổi học mỗi chiều Chủ Nhật</li>\n",
              "                <li><span class=\"highlight\">🚀 Kỹ năng thực chiến:</span> Làm chủ tự động hóa phân tích & giao dịch từ số 0</li>\n",
              "                <li><span class=\"highlight\">💯 Cộng đồng thành công:</span> Kết nối 100+ nhà đầu tư & chuyên gia tại Vnstock</li>                \n",
              "            </ul>\n",
              "            <div class=\"button-container\">\n",
              "                <a href=\"https://vnstocks.com/lp-khoa-hoc-python-chung-khoan\" class=\"vnstock-ad-button\">Đăng ký <i class=\"fas fa-chevron-right\"></i></a>\n",
              "            </div>\n",
              "        </div> -->\n",
              "        <div class=\"vnstock-ad-content\">\n",
              "            <h2 class=\"vnstock-ad-title\">\n",
              "                <span class=\"vnstock-ad-title-green\"><span class=\"highlight\">Biến Dữ Liệu Thành Lợi Nhuận -</span> Khai giảng Python Chứng Khoán K10</span>\n",
              "            </h2>\n",
              "            <ul class=\"vnstock-ad-features\">\n",
              "                <li><span class=\"highlight\">🗓️ Khai giảng 23/3/2025:</span> Học 10 buổi chiều Chủ Nhật</li>\n",
              "                <li><span class=\"highlight\">🚀 Kỹ năng thực chiến:</span> Phân tích chuyên sâu & tạo bot chứng khoán từ con số 0</li>\n",
              "                <li><span class=\"highlight\">💯 Cộng đồng thành công:</span> Đồng hành cùng 100+ học viên là nhà đầu tư & chuyên gia chứng khoán</li>                \n",
              "            </ul>\n",
              "            <div class=\"button-container\">\n",
              "                <a href=\"https://vnstocks.com/lp-khoa-hoc-python-chung-khoan\" class=\"vnstock-ad-button\">Đăng ký <i class=\"fas fa-chevron-right\"></i></a>\n",
              "            </div>\n",
              "        </div>\n",
              "        <a href=\"https://vnstocks.com/lp-khoa-hoc-python-chung-khoan\" class=\"vnstock-ad-image\">\n",
              "            <img src=\"https://vnstocks.com/img/cta-python-chung-khoan-k10-no-cta.jpg\" alt=\"Khóa học Python Chứng khoán\">\n",
              "        </a>\n",
              "    </div>\n",
              "</body>\n",
              "</html>\n"
            ]
          },
          "metadata": {}
        },
        {
          "output_type": "stream",
          "name": "stderr",
          "text": [
            "2025-03-19 06:43:18 - vnstock.common.data.data_explorer - WARNING - Thông tin niêm yết & giao dịch sẽ được truy xuất từ TCBS\n",
            "WARNING:vnstock.common.data.data_explorer:Thông tin niêm yết & giao dịch sẽ được truy xuất từ TCBS\n"
          ]
        },
        {
          "output_type": "stream",
          "name": "stdout",
          "text": [
            "VIC stock data saved\n"
          ]
        }
      ]
    },
    {
      "cell_type": "markdown",
      "source": [
        "# STEP 3 ANALYZE"
      ],
      "metadata": {
        "id": "wUj7-qFNwYYy"
      }
    },
    {
      "cell_type": "code",
      "source": [
        "print(df.head())\n",
        "print(df.info())\n",
        "print(df.shape)\n",
        "print(df.describe())"
      ],
      "metadata": {
        "colab": {
          "base_uri": "https://localhost:8080/"
        },
        "id": "WlyGQCDCqRpn",
        "outputId": "573fb390-06ef-4263-cf51-905b912f7a4a"
      },
      "execution_count": 3,
      "outputs": [
        {
          "output_type": "stream",
          "name": "stdout",
          "text": [
            "        time   open   high    low  close  volume\n",
            "0 2014-01-02  19.65  19.79  19.51  19.65   74950\n",
            "1 2014-01-03  19.65  19.79  19.51  19.79   91920\n",
            "2 2014-01-06  19.79  19.79  19.51  19.79  111760\n",
            "3 2014-01-07  19.79  19.79  19.65  19.79  294120\n",
            "4 2014-01-08  19.65  19.79  19.65  19.65  109890\n",
            "<class 'pandas.core.frame.DataFrame'>\n",
            "RangeIndex: 2746 entries, 0 to 2745\n",
            "Data columns (total 6 columns):\n",
            " #   Column  Non-Null Count  Dtype         \n",
            "---  ------  --------------  -----         \n",
            " 0   time    2746 non-null   datetime64[ns]\n",
            " 1   open    2746 non-null   float64       \n",
            " 2   high    2746 non-null   float64       \n",
            " 3   low     2746 non-null   float64       \n",
            " 4   close   2746 non-null   float64       \n",
            " 5   volume  2746 non-null   int64         \n",
            "dtypes: datetime64[ns](1), float64(4), int64(1)\n",
            "memory usage: 128.8 KB\n",
            "None\n",
            "(2746, 6)\n",
            "                                time         open         high          low  \\\n",
            "count                           2746  2746.000000  2746.000000  2746.000000   \n",
            "mean   2019-07-08 12:13:06.598689280    59.010623    59.685018    58.268467   \n",
            "min              2014-01-02 00:00:00    17.120000    17.550000    16.980000   \n",
            "25%              2016-10-10 06:00:00    30.295000    30.717500    29.980000   \n",
            "50%              2019-07-10 12:00:00    53.000000    53.500000    52.200000   \n",
            "75%              2022-04-05 18:00:00    89.960000    91.020000    88.870000   \n",
            "max              2024-12-31 00:00:00   128.000000   129.690000   127.110000   \n",
            "std                              NaN    30.602649    30.949578    30.217873   \n",
            "\n",
            "             close        volume  \n",
            "count  2746.000000  2.746000e+03  \n",
            "mean     59.028747  1.719905e+06  \n",
            "min      17.550000  0.000000e+00  \n",
            "25%      30.420000  5.385000e+05  \n",
            "50%      52.900000  1.107045e+06  \n",
            "75%      90.350000  2.009222e+06  \n",
            "max     128.000000  2.823433e+07  \n",
            "std      30.626286  2.399723e+06  \n"
          ]
        }
      ]
    },
    {
      "cell_type": "code",
      "source": [
        "# Parse the dates, sort, then set index to the 'time' column\n",
        "StockPrices = pd.read_csv(\"VIC_stock_data.csv\", parse_dates=['time'])\n",
        "StockPrices = StockPrices.sort_values('time')  # We don't have to with this dataset\n",
        "StockPrices = StockPrices.set_index('time')\n",
        "StockPrices.head()"
      ],
      "metadata": {
        "colab": {
          "base_uri": "https://localhost:8080/",
          "height": 237
        },
        "id": "GPivKGPQqkF5",
        "outputId": "fd073b85-3985-42e3-d985-a08edd1b5e08"
      },
      "execution_count": 4,
      "outputs": [
        {
          "output_type": "execute_result",
          "data": {
            "text/plain": [
              "             open   high    low  close  volume\n",
              "time                                          \n",
              "2014-01-02  19.65  19.79  19.51  19.65   74950\n",
              "2014-01-03  19.65  19.79  19.51  19.79   91920\n",
              "2014-01-06  19.79  19.79  19.51  19.79  111760\n",
              "2014-01-07  19.79  19.79  19.65  19.79  294120\n",
              "2014-01-08  19.65  19.79  19.65  19.65  109890"
            ],
            "text/html": [
              "\n",
              "  <div id=\"df-e0b45d99-7d5a-4b82-9b97-a2c02b85f8c8\" class=\"colab-df-container\">\n",
              "    <div>\n",
              "<style scoped>\n",
              "    .dataframe tbody tr th:only-of-type {\n",
              "        vertical-align: middle;\n",
              "    }\n",
              "\n",
              "    .dataframe tbody tr th {\n",
              "        vertical-align: top;\n",
              "    }\n",
              "\n",
              "    .dataframe thead th {\n",
              "        text-align: right;\n",
              "    }\n",
              "</style>\n",
              "<table border=\"1\" class=\"dataframe\">\n",
              "  <thead>\n",
              "    <tr style=\"text-align: right;\">\n",
              "      <th></th>\n",
              "      <th>open</th>\n",
              "      <th>high</th>\n",
              "      <th>low</th>\n",
              "      <th>close</th>\n",
              "      <th>volume</th>\n",
              "    </tr>\n",
              "    <tr>\n",
              "      <th>time</th>\n",
              "      <th></th>\n",
              "      <th></th>\n",
              "      <th></th>\n",
              "      <th></th>\n",
              "      <th></th>\n",
              "    </tr>\n",
              "  </thead>\n",
              "  <tbody>\n",
              "    <tr>\n",
              "      <th>2014-01-02</th>\n",
              "      <td>19.65</td>\n",
              "      <td>19.79</td>\n",
              "      <td>19.51</td>\n",
              "      <td>19.65</td>\n",
              "      <td>74950</td>\n",
              "    </tr>\n",
              "    <tr>\n",
              "      <th>2014-01-03</th>\n",
              "      <td>19.65</td>\n",
              "      <td>19.79</td>\n",
              "      <td>19.51</td>\n",
              "      <td>19.79</td>\n",
              "      <td>91920</td>\n",
              "    </tr>\n",
              "    <tr>\n",
              "      <th>2014-01-06</th>\n",
              "      <td>19.79</td>\n",
              "      <td>19.79</td>\n",
              "      <td>19.51</td>\n",
              "      <td>19.79</td>\n",
              "      <td>111760</td>\n",
              "    </tr>\n",
              "    <tr>\n",
              "      <th>2014-01-07</th>\n",
              "      <td>19.79</td>\n",
              "      <td>19.79</td>\n",
              "      <td>19.65</td>\n",
              "      <td>19.79</td>\n",
              "      <td>294120</td>\n",
              "    </tr>\n",
              "    <tr>\n",
              "      <th>2014-01-08</th>\n",
              "      <td>19.65</td>\n",
              "      <td>19.79</td>\n",
              "      <td>19.65</td>\n",
              "      <td>19.65</td>\n",
              "      <td>109890</td>\n",
              "    </tr>\n",
              "  </tbody>\n",
              "</table>\n",
              "</div>\n",
              "    <div class=\"colab-df-buttons\">\n",
              "\n",
              "  <div class=\"colab-df-container\">\n",
              "    <button class=\"colab-df-convert\" onclick=\"convertToInteractive('df-e0b45d99-7d5a-4b82-9b97-a2c02b85f8c8')\"\n",
              "            title=\"Convert this dataframe to an interactive table.\"\n",
              "            style=\"display:none;\">\n",
              "\n",
              "  <svg xmlns=\"http://www.w3.org/2000/svg\" height=\"24px\" viewBox=\"0 -960 960 960\">\n",
              "    <path d=\"M120-120v-720h720v720H120Zm60-500h600v-160H180v160Zm220 220h160v-160H400v160Zm0 220h160v-160H400v160ZM180-400h160v-160H180v160Zm440 0h160v-160H620v160ZM180-180h160v-160H180v160Zm440 0h160v-160H620v160Z\"/>\n",
              "  </svg>\n",
              "    </button>\n",
              "\n",
              "  <style>\n",
              "    .colab-df-container {\n",
              "      display:flex;\n",
              "      gap: 12px;\n",
              "    }\n",
              "\n",
              "    .colab-df-convert {\n",
              "      background-color: #E8F0FE;\n",
              "      border: none;\n",
              "      border-radius: 50%;\n",
              "      cursor: pointer;\n",
              "      display: none;\n",
              "      fill: #1967D2;\n",
              "      height: 32px;\n",
              "      padding: 0 0 0 0;\n",
              "      width: 32px;\n",
              "    }\n",
              "\n",
              "    .colab-df-convert:hover {\n",
              "      background-color: #E2EBFA;\n",
              "      box-shadow: 0px 1px 2px rgba(60, 64, 67, 0.3), 0px 1px 3px 1px rgba(60, 64, 67, 0.15);\n",
              "      fill: #174EA6;\n",
              "    }\n",
              "\n",
              "    .colab-df-buttons div {\n",
              "      margin-bottom: 4px;\n",
              "    }\n",
              "\n",
              "    [theme=dark] .colab-df-convert {\n",
              "      background-color: #3B4455;\n",
              "      fill: #D2E3FC;\n",
              "    }\n",
              "\n",
              "    [theme=dark] .colab-df-convert:hover {\n",
              "      background-color: #434B5C;\n",
              "      box-shadow: 0px 1px 3px 1px rgba(0, 0, 0, 0.15);\n",
              "      filter: drop-shadow(0px 1px 2px rgba(0, 0, 0, 0.3));\n",
              "      fill: #FFFFFF;\n",
              "    }\n",
              "  </style>\n",
              "\n",
              "    <script>\n",
              "      const buttonEl =\n",
              "        document.querySelector('#df-e0b45d99-7d5a-4b82-9b97-a2c02b85f8c8 button.colab-df-convert');\n",
              "      buttonEl.style.display =\n",
              "        google.colab.kernel.accessAllowed ? 'block' : 'none';\n",
              "\n",
              "      async function convertToInteractive(key) {\n",
              "        const element = document.querySelector('#df-e0b45d99-7d5a-4b82-9b97-a2c02b85f8c8');\n",
              "        const dataTable =\n",
              "          await google.colab.kernel.invokeFunction('convertToInteractive',\n",
              "                                                    [key], {});\n",
              "        if (!dataTable) return;\n",
              "\n",
              "        const docLinkHtml = 'Like what you see? Visit the ' +\n",
              "          '<a target=\"_blank\" href=https://colab.research.google.com/notebooks/data_table.ipynb>data table notebook</a>'\n",
              "          + ' to learn more about interactive tables.';\n",
              "        element.innerHTML = '';\n",
              "        dataTable['output_type'] = 'display_data';\n",
              "        await google.colab.output.renderOutput(dataTable, element);\n",
              "        const docLink = document.createElement('div');\n",
              "        docLink.innerHTML = docLinkHtml;\n",
              "        element.appendChild(docLink);\n",
              "      }\n",
              "    </script>\n",
              "  </div>\n",
              "\n",
              "\n",
              "<div id=\"df-4261cef1-7ba4-4792-a073-084d2279410a\">\n",
              "  <button class=\"colab-df-quickchart\" onclick=\"quickchart('df-4261cef1-7ba4-4792-a073-084d2279410a')\"\n",
              "            title=\"Suggest charts\"\n",
              "            style=\"display:none;\">\n",
              "\n",
              "<svg xmlns=\"http://www.w3.org/2000/svg\" height=\"24px\"viewBox=\"0 0 24 24\"\n",
              "     width=\"24px\">\n",
              "    <g>\n",
              "        <path d=\"M19 3H5c-1.1 0-2 .9-2 2v14c0 1.1.9 2 2 2h14c1.1 0 2-.9 2-2V5c0-1.1-.9-2-2-2zM9 17H7v-7h2v7zm4 0h-2V7h2v10zm4 0h-2v-4h2v4z\"/>\n",
              "    </g>\n",
              "</svg>\n",
              "  </button>\n",
              "\n",
              "<style>\n",
              "  .colab-df-quickchart {\n",
              "      --bg-color: #E8F0FE;\n",
              "      --fill-color: #1967D2;\n",
              "      --hover-bg-color: #E2EBFA;\n",
              "      --hover-fill-color: #174EA6;\n",
              "      --disabled-fill-color: #AAA;\n",
              "      --disabled-bg-color: #DDD;\n",
              "  }\n",
              "\n",
              "  [theme=dark] .colab-df-quickchart {\n",
              "      --bg-color: #3B4455;\n",
              "      --fill-color: #D2E3FC;\n",
              "      --hover-bg-color: #434B5C;\n",
              "      --hover-fill-color: #FFFFFF;\n",
              "      --disabled-bg-color: #3B4455;\n",
              "      --disabled-fill-color: #666;\n",
              "  }\n",
              "\n",
              "  .colab-df-quickchart {\n",
              "    background-color: var(--bg-color);\n",
              "    border: none;\n",
              "    border-radius: 50%;\n",
              "    cursor: pointer;\n",
              "    display: none;\n",
              "    fill: var(--fill-color);\n",
              "    height: 32px;\n",
              "    padding: 0;\n",
              "    width: 32px;\n",
              "  }\n",
              "\n",
              "  .colab-df-quickchart:hover {\n",
              "    background-color: var(--hover-bg-color);\n",
              "    box-shadow: 0 1px 2px rgba(60, 64, 67, 0.3), 0 1px 3px 1px rgba(60, 64, 67, 0.15);\n",
              "    fill: var(--button-hover-fill-color);\n",
              "  }\n",
              "\n",
              "  .colab-df-quickchart-complete:disabled,\n",
              "  .colab-df-quickchart-complete:disabled:hover {\n",
              "    background-color: var(--disabled-bg-color);\n",
              "    fill: var(--disabled-fill-color);\n",
              "    box-shadow: none;\n",
              "  }\n",
              "\n",
              "  .colab-df-spinner {\n",
              "    border: 2px solid var(--fill-color);\n",
              "    border-color: transparent;\n",
              "    border-bottom-color: var(--fill-color);\n",
              "    animation:\n",
              "      spin 1s steps(1) infinite;\n",
              "  }\n",
              "\n",
              "  @keyframes spin {\n",
              "    0% {\n",
              "      border-color: transparent;\n",
              "      border-bottom-color: var(--fill-color);\n",
              "      border-left-color: var(--fill-color);\n",
              "    }\n",
              "    20% {\n",
              "      border-color: transparent;\n",
              "      border-left-color: var(--fill-color);\n",
              "      border-top-color: var(--fill-color);\n",
              "    }\n",
              "    30% {\n",
              "      border-color: transparent;\n",
              "      border-left-color: var(--fill-color);\n",
              "      border-top-color: var(--fill-color);\n",
              "      border-right-color: var(--fill-color);\n",
              "    }\n",
              "    40% {\n",
              "      border-color: transparent;\n",
              "      border-right-color: var(--fill-color);\n",
              "      border-top-color: var(--fill-color);\n",
              "    }\n",
              "    60% {\n",
              "      border-color: transparent;\n",
              "      border-right-color: var(--fill-color);\n",
              "    }\n",
              "    80% {\n",
              "      border-color: transparent;\n",
              "      border-right-color: var(--fill-color);\n",
              "      border-bottom-color: var(--fill-color);\n",
              "    }\n",
              "    90% {\n",
              "      border-color: transparent;\n",
              "      border-bottom-color: var(--fill-color);\n",
              "    }\n",
              "  }\n",
              "</style>\n",
              "\n",
              "  <script>\n",
              "    async function quickchart(key) {\n",
              "      const quickchartButtonEl =\n",
              "        document.querySelector('#' + key + ' button');\n",
              "      quickchartButtonEl.disabled = true;  // To prevent multiple clicks.\n",
              "      quickchartButtonEl.classList.add('colab-df-spinner');\n",
              "      try {\n",
              "        const charts = await google.colab.kernel.invokeFunction(\n",
              "            'suggestCharts', [key], {});\n",
              "      } catch (error) {\n",
              "        console.error('Error during call to suggestCharts:', error);\n",
              "      }\n",
              "      quickchartButtonEl.classList.remove('colab-df-spinner');\n",
              "      quickchartButtonEl.classList.add('colab-df-quickchart-complete');\n",
              "    }\n",
              "    (() => {\n",
              "      let quickchartButtonEl =\n",
              "        document.querySelector('#df-4261cef1-7ba4-4792-a073-084d2279410a button');\n",
              "      quickchartButtonEl.style.display =\n",
              "        google.colab.kernel.accessAllowed ? 'block' : 'none';\n",
              "    })();\n",
              "  </script>\n",
              "</div>\n",
              "\n",
              "    </div>\n",
              "  </div>\n"
            ],
            "application/vnd.google.colaboratory.intrinsic+json": {
              "type": "dataframe",
              "variable_name": "StockPrices",
              "summary": "{\n  \"name\": \"StockPrices\",\n  \"rows\": 2746,\n  \"fields\": [\n    {\n      \"column\": \"time\",\n      \"properties\": {\n        \"dtype\": \"date\",\n        \"min\": \"2014-01-02 00:00:00\",\n        \"max\": \"2024-12-31 00:00:00\",\n        \"num_unique_values\": 2746,\n        \"samples\": [\n          \"2019-01-28 00:00:00\",\n          \"2023-06-20 00:00:00\",\n          \"2021-02-22 00:00:00\"\n        ],\n        \"semantic_type\": \"\",\n        \"description\": \"\"\n      }\n    },\n    {\n      \"column\": \"open\",\n      \"properties\": {\n        \"dtype\": \"number\",\n        \"std\": 30.602649442042534,\n        \"min\": 17.12,\n        \"max\": 128.0,\n        \"num_unique_values\": 1092,\n        \"samples\": [\n          84.89,\n          22.31,\n          21.08\n        ],\n        \"semantic_type\": \"\",\n        \"description\": \"\"\n      }\n    },\n    {\n      \"column\": \"high\",\n      \"properties\": {\n        \"dtype\": \"number\",\n        \"std\": 30.949577602157152,\n        \"min\": 17.55,\n        \"max\": 129.69,\n        \"num_unique_values\": 1131,\n        \"samples\": [\n          106.9,\n          64.9,\n          91.82\n        ],\n        \"semantic_type\": \"\",\n        \"description\": \"\"\n      }\n    },\n    {\n      \"column\": \"low\",\n      \"properties\": {\n        \"dtype\": \"number\",\n        \"std\": 30.21787308268634,\n        \"min\": 16.98,\n        \"max\": 127.11,\n        \"num_unique_values\": 1113,\n        \"samples\": [\n          65.1,\n          23.34,\n          43.8\n        ],\n        \"semantic_type\": \"\",\n        \"description\": \"\"\n      }\n    },\n    {\n      \"column\": \"close\",\n      \"properties\": {\n        \"dtype\": \"number\",\n        \"std\": 30.626285627321376,\n        \"min\": 17.55,\n        \"max\": 128.0,\n        \"num_unique_values\": 1083,\n        \"samples\": [\n          21.43,\n          91.2,\n          72.71\n        ],\n        \"semantic_type\": \"\",\n        \"description\": \"\"\n      }\n    },\n    {\n      \"column\": \"volume\",\n      \"properties\": {\n        \"dtype\": \"number\",\n        \"std\": 2399722,\n        \"min\": 0,\n        \"max\": 28234328,\n        \"num_unique_values\": 2733,\n        \"samples\": [\n          5641810,\n          2488900,\n          1766330\n        ],\n        \"semantic_type\": \"\",\n        \"description\": \"\"\n      }\n    }\n  ]\n}"
            }
          },
          "metadata": {},
          "execution_count": 4
        }
      ]
    },
    {
      "cell_type": "code",
      "source": [
        "# We are using Discrete returns here (Pt2 - Pt1)/Pt1\n",
        "StockPrices[\"Returns\"] = StockPrices[\"close\"].pct_change()\n",
        "StockPrices.head()"
      ],
      "metadata": {
        "colab": {
          "base_uri": "https://localhost:8080/",
          "height": 237
        },
        "id": "7vbLb1WTrFTr",
        "outputId": "eced63fc-e80c-45b8-bfe6-e3bcfbd225c3"
      },
      "execution_count": 5,
      "outputs": [
        {
          "output_type": "execute_result",
          "data": {
            "text/plain": [
              "             open   high    low  close  volume   Returns\n",
              "time                                                    \n",
              "2014-01-02  19.65  19.79  19.51  19.65   74950       NaN\n",
              "2014-01-03  19.65  19.79  19.51  19.79   91920  0.007125\n",
              "2014-01-06  19.79  19.79  19.51  19.79  111760  0.000000\n",
              "2014-01-07  19.79  19.79  19.65  19.79  294120  0.000000\n",
              "2014-01-08  19.65  19.79  19.65  19.65  109890 -0.007074"
            ],
            "text/html": [
              "\n",
              "  <div id=\"df-583a9b91-fdfa-4114-8db6-38d6f28473ee\" class=\"colab-df-container\">\n",
              "    <div>\n",
              "<style scoped>\n",
              "    .dataframe tbody tr th:only-of-type {\n",
              "        vertical-align: middle;\n",
              "    }\n",
              "\n",
              "    .dataframe tbody tr th {\n",
              "        vertical-align: top;\n",
              "    }\n",
              "\n",
              "    .dataframe thead th {\n",
              "        text-align: right;\n",
              "    }\n",
              "</style>\n",
              "<table border=\"1\" class=\"dataframe\">\n",
              "  <thead>\n",
              "    <tr style=\"text-align: right;\">\n",
              "      <th></th>\n",
              "      <th>open</th>\n",
              "      <th>high</th>\n",
              "      <th>low</th>\n",
              "      <th>close</th>\n",
              "      <th>volume</th>\n",
              "      <th>Returns</th>\n",
              "    </tr>\n",
              "    <tr>\n",
              "      <th>time</th>\n",
              "      <th></th>\n",
              "      <th></th>\n",
              "      <th></th>\n",
              "      <th></th>\n",
              "      <th></th>\n",
              "      <th></th>\n",
              "    </tr>\n",
              "  </thead>\n",
              "  <tbody>\n",
              "    <tr>\n",
              "      <th>2014-01-02</th>\n",
              "      <td>19.65</td>\n",
              "      <td>19.79</td>\n",
              "      <td>19.51</td>\n",
              "      <td>19.65</td>\n",
              "      <td>74950</td>\n",
              "      <td>NaN</td>\n",
              "    </tr>\n",
              "    <tr>\n",
              "      <th>2014-01-03</th>\n",
              "      <td>19.65</td>\n",
              "      <td>19.79</td>\n",
              "      <td>19.51</td>\n",
              "      <td>19.79</td>\n",
              "      <td>91920</td>\n",
              "      <td>0.007125</td>\n",
              "    </tr>\n",
              "    <tr>\n",
              "      <th>2014-01-06</th>\n",
              "      <td>19.79</td>\n",
              "      <td>19.79</td>\n",
              "      <td>19.51</td>\n",
              "      <td>19.79</td>\n",
              "      <td>111760</td>\n",
              "      <td>0.000000</td>\n",
              "    </tr>\n",
              "    <tr>\n",
              "      <th>2014-01-07</th>\n",
              "      <td>19.79</td>\n",
              "      <td>19.79</td>\n",
              "      <td>19.65</td>\n",
              "      <td>19.79</td>\n",
              "      <td>294120</td>\n",
              "      <td>0.000000</td>\n",
              "    </tr>\n",
              "    <tr>\n",
              "      <th>2014-01-08</th>\n",
              "      <td>19.65</td>\n",
              "      <td>19.79</td>\n",
              "      <td>19.65</td>\n",
              "      <td>19.65</td>\n",
              "      <td>109890</td>\n",
              "      <td>-0.007074</td>\n",
              "    </tr>\n",
              "  </tbody>\n",
              "</table>\n",
              "</div>\n",
              "    <div class=\"colab-df-buttons\">\n",
              "\n",
              "  <div class=\"colab-df-container\">\n",
              "    <button class=\"colab-df-convert\" onclick=\"convertToInteractive('df-583a9b91-fdfa-4114-8db6-38d6f28473ee')\"\n",
              "            title=\"Convert this dataframe to an interactive table.\"\n",
              "            style=\"display:none;\">\n",
              "\n",
              "  <svg xmlns=\"http://www.w3.org/2000/svg\" height=\"24px\" viewBox=\"0 -960 960 960\">\n",
              "    <path d=\"M120-120v-720h720v720H120Zm60-500h600v-160H180v160Zm220 220h160v-160H400v160Zm0 220h160v-160H400v160ZM180-400h160v-160H180v160Zm440 0h160v-160H620v160ZM180-180h160v-160H180v160Zm440 0h160v-160H620v160Z\"/>\n",
              "  </svg>\n",
              "    </button>\n",
              "\n",
              "  <style>\n",
              "    .colab-df-container {\n",
              "      display:flex;\n",
              "      gap: 12px;\n",
              "    }\n",
              "\n",
              "    .colab-df-convert {\n",
              "      background-color: #E8F0FE;\n",
              "      border: none;\n",
              "      border-radius: 50%;\n",
              "      cursor: pointer;\n",
              "      display: none;\n",
              "      fill: #1967D2;\n",
              "      height: 32px;\n",
              "      padding: 0 0 0 0;\n",
              "      width: 32px;\n",
              "    }\n",
              "\n",
              "    .colab-df-convert:hover {\n",
              "      background-color: #E2EBFA;\n",
              "      box-shadow: 0px 1px 2px rgba(60, 64, 67, 0.3), 0px 1px 3px 1px rgba(60, 64, 67, 0.15);\n",
              "      fill: #174EA6;\n",
              "    }\n",
              "\n",
              "    .colab-df-buttons div {\n",
              "      margin-bottom: 4px;\n",
              "    }\n",
              "\n",
              "    [theme=dark] .colab-df-convert {\n",
              "      background-color: #3B4455;\n",
              "      fill: #D2E3FC;\n",
              "    }\n",
              "\n",
              "    [theme=dark] .colab-df-convert:hover {\n",
              "      background-color: #434B5C;\n",
              "      box-shadow: 0px 1px 3px 1px rgba(0, 0, 0, 0.15);\n",
              "      filter: drop-shadow(0px 1px 2px rgba(0, 0, 0, 0.3));\n",
              "      fill: #FFFFFF;\n",
              "    }\n",
              "  </style>\n",
              "\n",
              "    <script>\n",
              "      const buttonEl =\n",
              "        document.querySelector('#df-583a9b91-fdfa-4114-8db6-38d6f28473ee button.colab-df-convert');\n",
              "      buttonEl.style.display =\n",
              "        google.colab.kernel.accessAllowed ? 'block' : 'none';\n",
              "\n",
              "      async function convertToInteractive(key) {\n",
              "        const element = document.querySelector('#df-583a9b91-fdfa-4114-8db6-38d6f28473ee');\n",
              "        const dataTable =\n",
              "          await google.colab.kernel.invokeFunction('convertToInteractive',\n",
              "                                                    [key], {});\n",
              "        if (!dataTable) return;\n",
              "\n",
              "        const docLinkHtml = 'Like what you see? Visit the ' +\n",
              "          '<a target=\"_blank\" href=https://colab.research.google.com/notebooks/data_table.ipynb>data table notebook</a>'\n",
              "          + ' to learn more about interactive tables.';\n",
              "        element.innerHTML = '';\n",
              "        dataTable['output_type'] = 'display_data';\n",
              "        await google.colab.output.renderOutput(dataTable, element);\n",
              "        const docLink = document.createElement('div');\n",
              "        docLink.innerHTML = docLinkHtml;\n",
              "        element.appendChild(docLink);\n",
              "      }\n",
              "    </script>\n",
              "  </div>\n",
              "\n",
              "\n",
              "<div id=\"df-37ff3314-4a67-406e-b2c2-b95a6c86e969\">\n",
              "  <button class=\"colab-df-quickchart\" onclick=\"quickchart('df-37ff3314-4a67-406e-b2c2-b95a6c86e969')\"\n",
              "            title=\"Suggest charts\"\n",
              "            style=\"display:none;\">\n",
              "\n",
              "<svg xmlns=\"http://www.w3.org/2000/svg\" height=\"24px\"viewBox=\"0 0 24 24\"\n",
              "     width=\"24px\">\n",
              "    <g>\n",
              "        <path d=\"M19 3H5c-1.1 0-2 .9-2 2v14c0 1.1.9 2 2 2h14c1.1 0 2-.9 2-2V5c0-1.1-.9-2-2-2zM9 17H7v-7h2v7zm4 0h-2V7h2v10zm4 0h-2v-4h2v4z\"/>\n",
              "    </g>\n",
              "</svg>\n",
              "  </button>\n",
              "\n",
              "<style>\n",
              "  .colab-df-quickchart {\n",
              "      --bg-color: #E8F0FE;\n",
              "      --fill-color: #1967D2;\n",
              "      --hover-bg-color: #E2EBFA;\n",
              "      --hover-fill-color: #174EA6;\n",
              "      --disabled-fill-color: #AAA;\n",
              "      --disabled-bg-color: #DDD;\n",
              "  }\n",
              "\n",
              "  [theme=dark] .colab-df-quickchart {\n",
              "      --bg-color: #3B4455;\n",
              "      --fill-color: #D2E3FC;\n",
              "      --hover-bg-color: #434B5C;\n",
              "      --hover-fill-color: #FFFFFF;\n",
              "      --disabled-bg-color: #3B4455;\n",
              "      --disabled-fill-color: #666;\n",
              "  }\n",
              "\n",
              "  .colab-df-quickchart {\n",
              "    background-color: var(--bg-color);\n",
              "    border: none;\n",
              "    border-radius: 50%;\n",
              "    cursor: pointer;\n",
              "    display: none;\n",
              "    fill: var(--fill-color);\n",
              "    height: 32px;\n",
              "    padding: 0;\n",
              "    width: 32px;\n",
              "  }\n",
              "\n",
              "  .colab-df-quickchart:hover {\n",
              "    background-color: var(--hover-bg-color);\n",
              "    box-shadow: 0 1px 2px rgba(60, 64, 67, 0.3), 0 1px 3px 1px rgba(60, 64, 67, 0.15);\n",
              "    fill: var(--button-hover-fill-color);\n",
              "  }\n",
              "\n",
              "  .colab-df-quickchart-complete:disabled,\n",
              "  .colab-df-quickchart-complete:disabled:hover {\n",
              "    background-color: var(--disabled-bg-color);\n",
              "    fill: var(--disabled-fill-color);\n",
              "    box-shadow: none;\n",
              "  }\n",
              "\n",
              "  .colab-df-spinner {\n",
              "    border: 2px solid var(--fill-color);\n",
              "    border-color: transparent;\n",
              "    border-bottom-color: var(--fill-color);\n",
              "    animation:\n",
              "      spin 1s steps(1) infinite;\n",
              "  }\n",
              "\n",
              "  @keyframes spin {\n",
              "    0% {\n",
              "      border-color: transparent;\n",
              "      border-bottom-color: var(--fill-color);\n",
              "      border-left-color: var(--fill-color);\n",
              "    }\n",
              "    20% {\n",
              "      border-color: transparent;\n",
              "      border-left-color: var(--fill-color);\n",
              "      border-top-color: var(--fill-color);\n",
              "    }\n",
              "    30% {\n",
              "      border-color: transparent;\n",
              "      border-left-color: var(--fill-color);\n",
              "      border-top-color: var(--fill-color);\n",
              "      border-right-color: var(--fill-color);\n",
              "    }\n",
              "    40% {\n",
              "      border-color: transparent;\n",
              "      border-right-color: var(--fill-color);\n",
              "      border-top-color: var(--fill-color);\n",
              "    }\n",
              "    60% {\n",
              "      border-color: transparent;\n",
              "      border-right-color: var(--fill-color);\n",
              "    }\n",
              "    80% {\n",
              "      border-color: transparent;\n",
              "      border-right-color: var(--fill-color);\n",
              "      border-bottom-color: var(--fill-color);\n",
              "    }\n",
              "    90% {\n",
              "      border-color: transparent;\n",
              "      border-bottom-color: var(--fill-color);\n",
              "    }\n",
              "  }\n",
              "</style>\n",
              "\n",
              "  <script>\n",
              "    async function quickchart(key) {\n",
              "      const quickchartButtonEl =\n",
              "        document.querySelector('#' + key + ' button');\n",
              "      quickchartButtonEl.disabled = true;  // To prevent multiple clicks.\n",
              "      quickchartButtonEl.classList.add('colab-df-spinner');\n",
              "      try {\n",
              "        const charts = await google.colab.kernel.invokeFunction(\n",
              "            'suggestCharts', [key], {});\n",
              "      } catch (error) {\n",
              "        console.error('Error during call to suggestCharts:', error);\n",
              "      }\n",
              "      quickchartButtonEl.classList.remove('colab-df-spinner');\n",
              "      quickchartButtonEl.classList.add('colab-df-quickchart-complete');\n",
              "    }\n",
              "    (() => {\n",
              "      let quickchartButtonEl =\n",
              "        document.querySelector('#df-37ff3314-4a67-406e-b2c2-b95a6c86e969 button');\n",
              "      quickchartButtonEl.style.display =\n",
              "        google.colab.kernel.accessAllowed ? 'block' : 'none';\n",
              "    })();\n",
              "  </script>\n",
              "</div>\n",
              "\n",
              "    </div>\n",
              "  </div>\n"
            ],
            "application/vnd.google.colaboratory.intrinsic+json": {
              "type": "dataframe",
              "variable_name": "StockPrices",
              "summary": "{\n  \"name\": \"StockPrices\",\n  \"rows\": 2746,\n  \"fields\": [\n    {\n      \"column\": \"time\",\n      \"properties\": {\n        \"dtype\": \"date\",\n        \"min\": \"2014-01-02 00:00:00\",\n        \"max\": \"2024-12-31 00:00:00\",\n        \"num_unique_values\": 2746,\n        \"samples\": [\n          \"2019-01-28 00:00:00\",\n          \"2023-06-20 00:00:00\",\n          \"2021-02-22 00:00:00\"\n        ],\n        \"semantic_type\": \"\",\n        \"description\": \"\"\n      }\n    },\n    {\n      \"column\": \"open\",\n      \"properties\": {\n        \"dtype\": \"number\",\n        \"std\": 30.602649442042534,\n        \"min\": 17.12,\n        \"max\": 128.0,\n        \"num_unique_values\": 1092,\n        \"samples\": [\n          84.89,\n          22.31,\n          21.08\n        ],\n        \"semantic_type\": \"\",\n        \"description\": \"\"\n      }\n    },\n    {\n      \"column\": \"high\",\n      \"properties\": {\n        \"dtype\": \"number\",\n        \"std\": 30.949577602157152,\n        \"min\": 17.55,\n        \"max\": 129.69,\n        \"num_unique_values\": 1131,\n        \"samples\": [\n          106.9,\n          64.9,\n          91.82\n        ],\n        \"semantic_type\": \"\",\n        \"description\": \"\"\n      }\n    },\n    {\n      \"column\": \"low\",\n      \"properties\": {\n        \"dtype\": \"number\",\n        \"std\": 30.21787308268634,\n        \"min\": 16.98,\n        \"max\": 127.11,\n        \"num_unique_values\": 1113,\n        \"samples\": [\n          65.1,\n          23.34,\n          43.8\n        ],\n        \"semantic_type\": \"\",\n        \"description\": \"\"\n      }\n    },\n    {\n      \"column\": \"close\",\n      \"properties\": {\n        \"dtype\": \"number\",\n        \"std\": 30.626285627321376,\n        \"min\": 17.55,\n        \"max\": 128.0,\n        \"num_unique_values\": 1083,\n        \"samples\": [\n          21.43,\n          91.2,\n          72.71\n        ],\n        \"semantic_type\": \"\",\n        \"description\": \"\"\n      }\n    },\n    {\n      \"column\": \"volume\",\n      \"properties\": {\n        \"dtype\": \"number\",\n        \"std\": 2399722,\n        \"min\": 0,\n        \"max\": 28234328,\n        \"num_unique_values\": 2733,\n        \"samples\": [\n          5641810,\n          2488900,\n          1766330\n        ],\n        \"semantic_type\": \"\",\n        \"description\": \"\"\n      }\n    },\n    {\n      \"column\": \"Returns\",\n      \"properties\": {\n        \"dtype\": \"number\",\n        \"std\": 0.017885094526756087,\n        \"min\": -0.07000634115408999,\n        \"max\": 0.06998813760379607,\n        \"num_unique_values\": 2203,\n        \"samples\": [\n          0.02600054451402145,\n          -0.008357441337190519,\n          0.0017094017094017033\n        ],\n        \"semantic_type\": \"\",\n        \"description\": \"\"\n      }\n    }\n  ]\n}"
            }
          },
          "metadata": {},
          "execution_count": 5
        }
      ]
    },
    {
      "cell_type": "code",
      "source": [
        "import matplotlib.pyplot as plt\n",
        "\n",
        "# Plot returns over time\n",
        "StockPrices['Returns'].plot()\n",
        "plt.show()"
      ],
      "metadata": {
        "colab": {
          "base_uri": "https://localhost:8080/",
          "height": 422
        },
        "id": "MjjkC3IgrYCa",
        "outputId": "394cfbd2-4f8b-4e23-e4d5-ff74df708eb8"
      },
      "execution_count": 6,
      "outputs": [
        {
          "output_type": "display_data",
          "data": {
            "text/plain": [
              "<Figure size 640x480 with 1 Axes>"
            ],
            "image/png": "[encoded data removed]"
          },
          "metadata": {}
        }
      ]
    },
    {
      "cell_type": "markdown",
      "source": [
        "Urgh, so much noise"
      ],
      "metadata": {
        "id": "xZp0R9Uur4G_"
      }
    },
    {
      "cell_type": "code",
      "source": [
        "# Return distribution\n",
        "returns_percentage = StockPrices[\"Returns\"] * 100  # Convert decimal into percentage\n",
        "plt.hist(returns_percentage.dropna(), # There is 1 NaN\n",
        "         bins=75,\n",
        "         density=False)\n",
        "plt.show()"
      ],
      "metadata": {
        "colab": {
          "base_uri": "https://localhost:8080/",
          "height": 430
        },
        "id": "2RXkhBElr6bT",
        "outputId": "959a282b-7960-4baa-d3a1-3eb502f8ad33"
      },
      "execution_count": 7,
      "outputs": [
        {
          "output_type": "display_data",
          "data": {
            "text/plain": [
              "<Figure size 640x480 with 1 Axes>"
            ],
            "image/png": "[encoded data removed]"
          },
          "metadata": {}
        }
      ]
    },
    {
      "cell_type": "markdown",
      "source": [
        "Mean"
      ],
      "metadata": {
        "id": "Jx17ZTJoti2r"
      }
    },
    {
      "cell_type": "code",
      "source": [
        "import numpy as np\n",
        "daily_return = np.mean(StockPrices[\"Returns\"])\n",
        "print(daily_return)\n",
        "annualized_return = ((1+np.mean(StockPrices[\"Returns\"]))**252)-1  # Annualized mean returns\n",
        "print(annualized_return)"
      ],
      "metadata": {
        "colab": {
          "base_uri": "https://localhost:8080/"
        },
        "id": "CH57wsSwtbVm",
        "outputId": "373f7df9-e7f6-4243-94be-855c298911b7"
      },
      "execution_count": 8,
      "outputs": [
        {
          "output_type": "stream",
          "name": "stdout",
          "text": [
            "0.0004233450595213701\n",
            "0.11255634339007714\n"
          ]
        }
      ]
    },
    {
      "cell_type": "markdown",
      "source": [
        "standard deviation and variance of returns"
      ],
      "metadata": {
        "id": "VydlAKXfuBcU"
      }
    },
    {
      "cell_type": "code",
      "source": [
        "import numpy as np\n",
        "std = np.std(StockPrices[\"Returns\"])        # calc std\n",
        "var = std**2                                # variance is std^2\n",
        "\n",
        "# Annualized\n",
        "std_annualized = std*np.sqrt(252)\n",
        "var_annualized = std_annualized**2\n",
        "\n",
        "print('std :', std)\n",
        "print('var :', var)\n",
        "print('std_annualized :', std_annualized)\n",
        "print('var_annualized :', var_annualized)"
      ],
      "metadata": {
        "colab": {
          "base_uri": "https://localhost:8080/"
        },
        "id": "0TfB9rBvuFFe",
        "outputId": "8c48e392-9b32-4ac2-9679-cfe82939a977"
      },
      "execution_count": 9,
      "outputs": [
        {
          "output_type": "stream",
          "name": "stdout",
          "text": [
            "std : 0.017881836471436815\n",
            "var : 0.0003197600755912078\n",
            "std_annualized : 0.2838653537312794\n",
            "var_annualized : 0.08057953904898439\n"
          ]
        }
      ]
    },
    {
      "cell_type": "markdown",
      "source": [
        "skewness"
      ],
      "metadata": {
        "id": "1PxMl43iuQhT"
      }
    },
    {
      "cell_type": "code",
      "source": [
        "from scipy.stats import skew\n",
        "skew(StockPrices[\"Returns\"].dropna())"
      ],
      "metadata": {
        "colab": {
          "base_uri": "https://localhost:8080/"
        },
        "id": "L0_upSz9uRmz",
        "outputId": "c84b8f74-8f70-4dec-d6cb-4db9b857acb8"
      },
      "execution_count": 10,
      "outputs": [
        {
          "output_type": "execute_result",
          "data": {
            "text/plain": [
              "np.float64(0.30672507001073807)"
            ]
          },
          "metadata": {},
          "execution_count": 10
        }
      ]
    },
    {
      "cell_type": "markdown",
      "source": [
        "Kurtosis"
      ],
      "metadata": {
        "id": "lB5LyjZHucIA"
      }
    },
    {
      "cell_type": "code",
      "source": [
        "from scipy.stats import kurtosis\n",
        "kurtosis(StockPrices[\"Returns\"].dropna())  # THIS IS EXCESS KURTOSIS"
      ],
      "metadata": {
        "colab": {
          "base_uri": "https://localhost:8080/"
        },
        "id": "-G62h5kmudlo",
        "outputId": "cd610c91-d25e-4a1e-f2b1-c60e14aef7fb"
      },
      "execution_count": 11,
      "outputs": [
        {
          "output_type": "execute_result",
          "data": {
            "text/plain": [
              "np.float64(3.899912118760226)"
            ]
          },
          "metadata": {},
          "execution_count": 11
        }
      ]
    },
    {
      "cell_type": "markdown",
      "source": [
        "Testing for normality"
      ],
      "metadata": {
        "id": "NqdBUbvguvsM"
      }
    },
    {
      "cell_type": "code",
      "source": [
        "from scipy import stats\n",
        "p_value = stats.shapiro(StockPrices[\"Returns\"].dropna())[1]\n",
        "if p_value <= 0.05:\n",
        "\tprint(\"Null hypothesis rejected\")\n",
        "else:\n",
        "\tprint(\"Null hypothesis accepted\")"
      ],
      "metadata": {
        "colab": {
          "base_uri": "https://localhost:8080/"
        },
        "id": "EaTATJxBux5X",
        "outputId": "d105d0f3-68f7-41f5-d60b-bbd68d2ec9fb"
      },
      "execution_count": 12,
      "outputs": [
        {
          "output_type": "stream",
          "name": "stdout",
          "text": [
            "Null hypothesis rejected\n"
          ]
        }
      ]
    }
  ]
}